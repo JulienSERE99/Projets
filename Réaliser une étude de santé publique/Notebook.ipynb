{
 "cells": [
  {
   "cell_type": "markdown",
   "id": "e7316a32",
   "metadata": {},
   "source": [
    "<div style=\" background-color: RGB(0,114,200);\" >\n",
    "<h1 style=\"margin: auto; padding: 20px 0; color:#fff; text-align: center\">PROJET 4 DATA ANALYST</h1>\n",
    "<h2 style=\"margin: auto; padding: 20px 0; color:#fff; text-align: center\">Réalisez une étude de santé publique avec R ou Python\n",
    "</h2>\n",
    "</div>"
   ]
  },
  {
   "cell_type": "markdown",
   "id": "6e00fa8a",
   "metadata": {},
   "source": [
    "# OBJECTIF DE CE NOTEBOOK\n",
    "\n",
    "Bienvenue dans l'outil plébiscité par les analystes de données Jupyter.\n",
    "\n",
    "Il s'agit d'un outil permettant de mixer et d'alterner codes, textes et graphique.\n",
    "\n",
    "Cet outil est formidable pour plusieurs raisons:\n",
    "\n",
    "+ il permet de tester des lignes de codes au fur et à mesure de votre rédaction, de constater immédiatement le résultat d'un instruction, de la corriger si nécessaire.\n",
    "+ De rédiger du texte pour expliquer l'approche suivie ou les résultats d'une analyse et de le mettre en forme grâce à du code html ou plus simple avec **Markdown**\n",
    "+ d'agrémenter de graphiques\n",
    "\n",
    "Pour vous aider dans vos premiers pas à l'usage de Jupyter et de Python, nous avons rédigé ce notebook en vous indiquant les instructions à suivre.\n",
    "\n",
    "Il vous suffit pour cela de saisir le code Python répondant à l'instruction donnée.\n",
    "\n",
    "Vous verrez de temps à autre le code Python répondant à une instruction donnée mais cela est fait pour vous aider à comprendre la nature du travail qui vous est demandée.\n",
    "\n",
    "Et garder à l'esprit, qu'il n'y a pas de solution unique pour résoudre un problème et qu'il y a autant de résolutions de problèmes que de développeurs ;)...\n",
    "\n"
   ]
  },
  {
   "cell_type": "markdown",
   "id": "c33bcf57",
   "metadata": {},
   "source": [
    "Note jeremy \n",
    "Est ce qu'il faut faire le calcul de la sous nutrition sur les pays qu'on a ? \n",
    "Est ce qu'il faut faire des graphiques ?\n",
    "Rajouter le soja\n",
    "La liste des céréales est difficile a trouver ..."
   ]
  },
  {
   "cell_type": "markdown",
   "id": "9dad8326",
   "metadata": {},
   "source": [
    "<div style=\"background-color: RGB(0,150,250);\" >\n",
    "<h2 style=\"margin: auto; padding: 20px; color:#fff; \">Etape 1 - Importation des librairies et chargement des fichiers</h2>\n",
    "</div>"
   ]
  },
  {
   "cell_type": "markdown",
   "id": "4ee69457",
   "metadata": {},
   "source": [
    "<div style=\"border: 1px solid RGB(0,150,250);\" >\n",
    "<h3 style=\"margin: auto; padding: 20px; color: RGB(0,150,250); \">1.1 - Importation des librairies</h3>\n",
    "</div>"
   ]
  },
  {
   "cell_type": "code",
   "execution_count": 82,
   "id": "ffe62b56",
   "metadata": {},
   "outputs": [],
   "source": [
    "#Importation de la librairie Pandas\n",
    "import pandas as pd\n",
    "import numpy as np\n",
    "import matplotlib.pyplot as plt \n",
    "import seaborn as sns "
   ]
  },
  {
   "cell_type": "markdown",
   "id": "8bd8e7ed",
   "metadata": {},
   "source": [
    "<div style=\"border: 1px solid RGB(0,150,250);\" >\n",
    "<h3 style=\"margin: auto; padding: 20px; color: RGB(0,150,250); \">1.2 - Chargement des fichiers Excel</h3>\n",
    "</div>"
   ]
  },
  {
   "cell_type": "code",
   "execution_count": 83,
   "id": "b304f108",
   "metadata": {},
   "outputs": [],
   "source": [
    "#Importation du fichier population.csv\n",
    "population = pd.read_csv('C:/Users/julie/Downloads/OC Formation/P4/DAN-P4-FAO/population.csv')\n",
    "\n",
    "#Importation du fichier dispo_alimentaire.csv\n",
    "dispo_alimentaire = pd.read_csv('C:/Users/julie/Downloads/OC Formation/P4/DAN-P4-FAO/dispo_alimentaire.csv')\n",
    "\n",
    "#Importation du fichier aide_alimentaire.csv\n",
    "aide_alimentaire = pd.read_csv('C:/Users/julie/Downloads/OC Formation/P4/DAN-P4-FAO/aide_alimentaire.csv')\n",
    "\n",
    "#Importation du fichier sous_nutrition.csv\n",
    "sous_nutrition = pd.read_csv('C:/Users/julie/Downloads/OC Formation/P4/DAN-P4-FAO/sous_nutrition.csv')\n"
   ]
  },
  {
   "cell_type": "markdown",
   "id": "1249847a",
   "metadata": {},
   "source": [
    "<div style=\"background-color: RGB(0,150,250);\" >\n",
    "<h2 style=\"margin: auto; padding: 20px; color:#fff; \">Etape 2 - Analyse exploratoire des fichiers</h2>\n",
    "</div>"
   ]
  },
  {
   "cell_type": "markdown",
   "id": "235e6e91",
   "metadata": {},
   "source": [
    "<div style=\"border: 1px solid RGB(0,150,250);\" >\n",
    "<h3 style=\"margin: auto; padding: 20px; color: RGB(0,150,250); \">2.1 - Analyse exploratoire du fichier population</h3>\n",
    "</div>"
   ]
  },
  {
   "cell_type": "code",
   "execution_count": 84,
   "id": "e6b639d2",
   "metadata": {},
   "outputs": [
    {
     "name": "stdout",
     "output_type": "stream",
     "text": [
      "Le tableau comporte 1416 valeurs\n",
      "Le tableau comporte 3 colonne(s)\n"
     ]
    }
   ],
   "source": [
    "#Afficher les dimensions du dataset\n",
    "print(\"Le tableau comporte {} valeurs\".format(population.shape[0]))\n",
    "print(\"Le tableau comporte {} colonne(s)\".format(population.shape[1]))"
   ]
  },
  {
   "cell_type": "code",
   "execution_count": 85,
   "id": "fbbdfd5c",
   "metadata": {},
   "outputs": [
    {
     "name": "stdout",
     "output_type": "stream",
     "text": [
      "Le tableau comporte 3 colonne(s)\n",
      "       Type de données  Nombre de valeurs\n",
      "Zone            object               1416\n",
      "Année            int64               1416\n",
      "Valeur         float64               1416\n"
     ]
    }
   ],
   "source": [
    "#Consulter le nombre de colonnes\n",
    "print(\"Le tableau comporte {} colonne(s)\".format(population.shape[1]))\n",
    "#La nature des données dans chacune des colonnes\n",
    "#Le nombre de valeurs présentes dans chacune des colonnes\n",
    "resultat = pd.DataFrame({\n",
    "    \"Type de données\": population.dtypes,\n",
    "    \"Nombre de valeurs\": population.count()})\n",
    "print(resultat)"
   ]
  },
  {
   "cell_type": "code",
   "execution_count": 86,
   "id": "3e50d9e6",
   "metadata": {},
   "outputs": [
    {
     "name": "stdout",
     "output_type": "stream",
     "text": [
      "          Zone  Année     Valeur\n",
      "0  Afghanistan   2013  32269.589\n",
      "1  Afghanistan   2014  33370.794\n",
      "2  Afghanistan   2015  34413.603\n",
      "3  Afghanistan   2016  35383.032\n",
      "4  Afghanistan   2017  36296.113\n"
     ]
    }
   ],
   "source": [
    "#Affichage les 5 premières lignes de la table\n",
    "print(population.head())"
   ]
  },
  {
   "cell_type": "code",
   "execution_count": 87,
   "id": "ab1a4af4",
   "metadata": {},
   "outputs": [
    {
     "name": "stdout",
     "output_type": "stream",
     "text": [
      "          Zone  Année      Valeur\n",
      "0  Afghanistan   2013  32269589.0\n",
      "1  Afghanistan   2014  33370794.0\n",
      "2  Afghanistan   2015  34413603.0\n",
      "3  Afghanistan   2016  35383032.0\n",
      "4  Afghanistan   2017  36296113.0\n"
     ]
    }
   ],
   "source": [
    "#Nous allons harmoniser les unités. Pour cela, nous avons décidé de multiplier la population par 1000\n",
    "#Multiplication de la colonne valeur par 1000\n",
    "population['Valeur'] = population['Valeur'] * 1000\n",
    "print(population.head())"
   ]
  },
  {
   "cell_type": "code",
   "execution_count": 88,
   "id": "38836b61",
   "metadata": {},
   "outputs": [],
   "source": [
    "#changement du nom de la colonne Valeur par Population\n",
    "population.rename(columns={'Valeur': 'Population'}, inplace=True)"
   ]
  },
  {
   "cell_type": "code",
   "execution_count": 89,
   "id": "ff707561",
   "metadata": {},
   "outputs": [
    {
     "name": "stdout",
     "output_type": "stream",
     "text": [
      "          Zone  Année  Population\n",
      "0  Afghanistan   2013  32269589.0\n",
      "1  Afghanistan   2014  33370794.0\n",
      "2  Afghanistan   2015  34413603.0\n",
      "3  Afghanistan   2016  35383032.0\n",
      "4  Afghanistan   2017  36296113.0\n"
     ]
    }
   ],
   "source": [
    "#Affichage les 5 premières lignes de la table pour voir les modifications\n",
    "print(population.head())"
   ]
  },
  {
   "cell_type": "markdown",
   "id": "4224b896",
   "metadata": {},
   "source": [
    "<div style=\"border: 1px solid RGB(0,150,250);\" >\n",
    "<h3 style=\"margin: auto; padding: 20px; color: RGB(0,150,250); \">2.2 - Analyse exploratoire du fichier disponibilité alimentaire</h3>\n",
    "</div>"
   ]
  },
  {
   "cell_type": "code",
   "execution_count": 90,
   "id": "38f5b838",
   "metadata": {},
   "outputs": [
    {
     "name": "stdout",
     "output_type": "stream",
     "text": [
      "(15605, 18)\n"
     ]
    }
   ],
   "source": [
    "#Afficher les dimensions du dataset\n",
    "dimensions = dispo_alimentaire.shape\n",
    "print(dimensions)"
   ]
  },
  {
   "cell_type": "code",
   "execution_count": 91,
   "id": "99735a22",
   "metadata": {},
   "outputs": [
    {
     "name": "stdout",
     "output_type": "stream",
     "text": [
      "Le tableau comporte 3 colonne(s)\n"
     ]
    }
   ],
   "source": [
    "#Consulter le nombre de colonnes\n",
    "print(\"Le tableau comporte {} colonne(s)\".format(population.shape[1]))"
   ]
  },
  {
   "cell_type": "code",
   "execution_count": 92,
   "id": "0058032d",
   "metadata": {
    "scrolled": true
   },
   "outputs": [
    {
     "name": "stdout",
     "output_type": "stream",
     "text": [
      "          Zone                Produit   Origine  Aliments pour animaux  \\\n",
      "0  Afghanistan       Abats Comestible   animale                    NaN   \n",
      "1  Afghanistan        Agrumes, Autres  vegetale                    NaN   \n",
      "2  Afghanistan  Aliments pour enfants  vegetale                    NaN   \n",
      "3  Afghanistan                 Ananas  vegetale                    NaN   \n",
      "4  Afghanistan                Bananes  vegetale                    NaN   \n",
      "\n",
      "   Autres Utilisations  Disponibilité alimentaire (Kcal/personne/jour)  \\\n",
      "0                  NaN                                             5.0   \n",
      "1                  NaN                                             1.0   \n",
      "2                  NaN                                             1.0   \n",
      "3                  NaN                                             0.0   \n",
      "4                  NaN                                             4.0   \n",
      "\n",
      "   Disponibilité alimentaire en quantité (kg/personne/an)  \\\n",
      "0                                               1.72        \n",
      "1                                               1.29        \n",
      "2                                               0.06        \n",
      "3                                               0.00        \n",
      "4                                               2.70        \n",
      "\n",
      "   Disponibilité de matière grasse en quantité (g/personne/jour)  \\\n",
      "0                                               0.20               \n",
      "1                                               0.01               \n",
      "2                                               0.01               \n",
      "3                                                NaN               \n",
      "4                                               0.02               \n",
      "\n",
      "   Disponibilité de protéines en quantité (g/personne/jour)  \\\n",
      "0                                               0.77          \n",
      "1                                               0.02          \n",
      "2                                               0.03          \n",
      "3                                                NaN          \n",
      "4                                               0.05          \n",
      "\n",
      "   Disponibilité intérieure  Exportations - Quantité  Importations - Quantité  \\\n",
      "0                      53.0                      NaN                      NaN   \n",
      "1                      41.0                      2.0                     40.0   \n",
      "2                       2.0                      NaN                      2.0   \n",
      "3                       0.0                      NaN                      0.0   \n",
      "4                      82.0                      NaN                     82.0   \n",
      "\n",
      "   Nourriture  Pertes  Production  Semences  Traitement  Variation de stock  \n",
      "0        53.0     NaN        53.0       NaN         NaN                 NaN  \n",
      "1        39.0     2.0         3.0       NaN         NaN                 NaN  \n",
      "2         2.0     NaN         NaN       NaN         NaN                 NaN  \n",
      "3         0.0     NaN         NaN       NaN         NaN                 NaN  \n",
      "4        82.0     NaN         NaN       NaN         NaN                 NaN  \n"
     ]
    }
   ],
   "source": [
    "#Affichage les 5 premières lignes de la table\n",
    "print(dispo_alimentaire.head())"
   ]
  },
  {
   "cell_type": "code",
   "execution_count": 93,
   "id": "db4432e3",
   "metadata": {
    "scrolled": true
   },
   "outputs": [],
   "source": [
    "#multiplication de toutes les lignes contenant des milliers de tonnes en Kg\n",
    "colonnes_a_convertir = [ 'Aliments pour animaux', 'Autres Utilisations',\n",
    "    'Disponibilité intérieure', 'Exportations - Quantité', 'Importations - Quantité',\n",
    "    'Nourriture', 'Pertes', 'Production', 'Semences', 'Traitement', 'Variation de stock']\n",
    "dispo_alimentaire[colonnes_a_convertir] = dispo_alimentaire[colonnes_a_convertir] * 1000"
   ]
  },
  {
   "cell_type": "code",
   "execution_count": 94,
   "id": "f3832569",
   "metadata": {},
   "outputs": [],
   "source": [
    "#remplacement des NaN dans le dataset par des 0\n",
    "dispo_alimentaire.fillna(0, inplace=True)"
   ]
  },
  {
   "cell_type": "code",
   "execution_count": 95,
   "id": "7f1689bf",
   "metadata": {},
   "outputs": [
    {
     "name": "stdout",
     "output_type": "stream",
     "text": [
      "          Zone                Produit   Origine  Aliments pour animaux  \\\n",
      "0  Afghanistan       Abats Comestible   animale                    0.0   \n",
      "1  Afghanistan        Agrumes, Autres  vegetale                    0.0   \n",
      "2  Afghanistan  Aliments pour enfants  vegetale                    0.0   \n",
      "3  Afghanistan                 Ananas  vegetale                    0.0   \n",
      "4  Afghanistan                Bananes  vegetale                    0.0   \n",
      "\n",
      "   Autres Utilisations  Disponibilité alimentaire (Kcal/personne/jour)  \\\n",
      "0                  0.0                                             5.0   \n",
      "1                  0.0                                             1.0   \n",
      "2                  0.0                                             1.0   \n",
      "3                  0.0                                             0.0   \n",
      "4                  0.0                                             4.0   \n",
      "\n",
      "   Disponibilité alimentaire en quantité (kg/personne/an)  \\\n",
      "0                                               1.72        \n",
      "1                                               1.29        \n",
      "2                                               0.06        \n",
      "3                                               0.00        \n",
      "4                                               2.70        \n",
      "\n",
      "   Disponibilité de matière grasse en quantité (g/personne/jour)  \\\n",
      "0                                               0.20               \n",
      "1                                               0.01               \n",
      "2                                               0.01               \n",
      "3                                               0.00               \n",
      "4                                               0.02               \n",
      "\n",
      "   Disponibilité de protéines en quantité (g/personne/jour)  \\\n",
      "0                                               0.77          \n",
      "1                                               0.02          \n",
      "2                                               0.03          \n",
      "3                                               0.00          \n",
      "4                                               0.05          \n",
      "\n",
      "   Disponibilité intérieure  Exportations - Quantité  Importations - Quantité  \\\n",
      "0                   53000.0                      0.0                      0.0   \n",
      "1                   41000.0                   2000.0                  40000.0   \n",
      "2                    2000.0                      0.0                   2000.0   \n",
      "3                       0.0                      0.0                      0.0   \n",
      "4                   82000.0                      0.0                  82000.0   \n",
      "\n",
      "   Nourriture  Pertes  Production  Semences  Traitement  Variation de stock  \n",
      "0     53000.0     0.0     53000.0       0.0         0.0                 0.0  \n",
      "1     39000.0  2000.0      3000.0       0.0         0.0                 0.0  \n",
      "2      2000.0     0.0         0.0       0.0         0.0                 0.0  \n",
      "3         0.0     0.0         0.0       0.0         0.0                 0.0  \n",
      "4     82000.0     0.0         0.0       0.0         0.0                 0.0  \n"
     ]
    }
   ],
   "source": [
    "#Affichage les 5 premières lignes de la table\n",
    "print(dispo_alimentaire.head())"
   ]
  },
  {
   "cell_type": "markdown",
   "id": "a09233e4",
   "metadata": {},
   "source": [
    "<div style=\"border: 1px solid RGB(0,150,250);\" >\n",
    "<h3 style=\"margin: auto; padding: 20px; color: RGB(0,150,250); \">2.3 - Analyse exploratoire du fichier aide alimentaire</h3>\n",
    "</div>"
   ]
  },
  {
   "cell_type": "code",
   "execution_count": 96,
   "id": "702f6322",
   "metadata": {},
   "outputs": [
    {
     "name": "stdout",
     "output_type": "stream",
     "text": [
      "(1475, 4)\n"
     ]
    }
   ],
   "source": [
    "#Afficher les dimensions du dataset\n",
    "dimensions = aide_alimentaire.shape\n",
    "print(dimensions)"
   ]
  },
  {
   "cell_type": "code",
   "execution_count": 97,
   "id": "8fead3f9",
   "metadata": {},
   "outputs": [
    {
     "name": "stdout",
     "output_type": "stream",
     "text": [
      "Nombre de colonnes dans le tableau sous_nutrition : 3\n"
     ]
    }
   ],
   "source": [
    "#Consulter le nombre de colonnes\n",
    "nombre_de_colonnes = sous_nutrition.shape[1]\n",
    "\n",
    "print(f\"Nombre de colonnes dans le tableau sous_nutrition : {nombre_de_colonnes}\")"
   ]
  },
  {
   "cell_type": "code",
   "execution_count": 98,
   "id": "443ec245",
   "metadata": {},
   "outputs": [
    {
     "name": "stdout",
     "output_type": "stream",
     "text": [
      "  Pays bénéficiaire  Année              Produit  Valeur\n",
      "0       Afghanistan   2013  Autres non-céréales     682\n",
      "1       Afghanistan   2014  Autres non-céréales     335\n",
      "2       Afghanistan   2013         Blé et Farin   39224\n",
      "3       Afghanistan   2014         Blé et Farin   15160\n",
      "4       Afghanistan   2013             Céréales   40504\n"
     ]
    }
   ],
   "source": [
    "#Affichage les 5 premières lignes de la table\n",
    "print(aide_alimentaire.head())"
   ]
  },
  {
   "cell_type": "code",
   "execution_count": 99,
   "id": "af47212b",
   "metadata": {},
   "outputs": [],
   "source": [
    "#changement du nom de la colonne Pays bénéficiaire par Zone\n",
    "aide_alimentaire.rename(columns={'Pays bénéficiaire' : 'Zone'}, inplace=True)"
   ]
  },
  {
   "cell_type": "code",
   "execution_count": 100,
   "id": "c32cd1d8",
   "metadata": {},
   "outputs": [],
   "source": [
    "#Multiplication de la colonne Aide_alimentaire qui contient des tonnes par 1000 pour avoir des kg\n",
    "aide_alimentaire['Valeur'] = aide_alimentaire['Valeur'] * 10**3\n",
    "aide_alimentaire.rename(columns={'Valeur' : 'Valeur en kg'}, inplace=True)"
   ]
  },
  {
   "cell_type": "code",
   "execution_count": 101,
   "id": "d951d8df",
   "metadata": {
    "scrolled": true
   },
   "outputs": [
    {
     "name": "stdout",
     "output_type": "stream",
     "text": [
      "          Zone  Année              Produit  Valeur en kg\n",
      "0  Afghanistan   2013  Autres non-céréales        682000\n",
      "1  Afghanistan   2014  Autres non-céréales        335000\n",
      "2  Afghanistan   2013         Blé et Farin      39224000\n",
      "3  Afghanistan   2014         Blé et Farin      15160000\n",
      "4  Afghanistan   2013             Céréales      40504000\n"
     ]
    }
   ],
   "source": [
    "#Affichage les 5 premières lignes de la table\n",
    "print(aide_alimentaire.head())"
   ]
  },
  {
   "cell_type": "markdown",
   "id": "eeae9043",
   "metadata": {},
   "source": [
    "<div style=\"border: 1px solid RGB(0,150,250);\" >\n",
    "<h3 style=\"margin: auto; padding: 20px; color: RGB(0,150,250); \">2.3 - Analyse exploratoire du fichier sous nutrition</h3>\n",
    "</div>"
   ]
  },
  {
   "cell_type": "code",
   "execution_count": 102,
   "id": "882add3d",
   "metadata": {},
   "outputs": [
    {
     "name": "stdout",
     "output_type": "stream",
     "text": [
      "(1218, 3)\n"
     ]
    }
   ],
   "source": [
    "#Afficher les dimensions du dataset\n",
    "dimensions = sous_nutrition.shape\n",
    "print(dimensions)"
   ]
  },
  {
   "cell_type": "code",
   "execution_count": 103,
   "id": "70c1a7a9",
   "metadata": {},
   "outputs": [
    {
     "name": "stdout",
     "output_type": "stream",
     "text": [
      "Index(['Zone', 'Année', 'Valeur'], dtype='object')\n"
     ]
    }
   ],
   "source": [
    "#Consulter le nombre de colonnes\n",
    "print(sous_nutrition.columns)"
   ]
  },
  {
   "cell_type": "code",
   "execution_count": 104,
   "id": "5c6469e5",
   "metadata": {},
   "outputs": [
    {
     "name": "stdout",
     "output_type": "stream",
     "text": [
      "          Zone      Année Valeur\n",
      "0  Afghanistan  2012-2014    8.6\n",
      "1  Afghanistan  2013-2015    8.8\n",
      "2  Afghanistan  2014-2016    8.9\n",
      "3  Afghanistan  2015-2017    9.7\n",
      "4  Afghanistan  2016-2018   10.5\n"
     ]
    }
   ],
   "source": [
    "#Afficher les 5 premières lignes de la table\n",
    "print(sous_nutrition.head())"
   ]
  },
  {
   "cell_type": "code",
   "execution_count": 105,
   "id": "11b6a6c8",
   "metadata": {},
   "outputs": [],
   "source": [
    "#Conversion de la colonne sous nutrition en numérique\n",
    "sous_nutrition['Valeur'] = pd.to_numeric(sous_nutrition['Valeur'], errors='coerce')"
   ]
  },
  {
   "cell_type": "code",
   "execution_count": 106,
   "id": "d31d2724",
   "metadata": {},
   "outputs": [],
   "source": [
    "#Conversion de la colonne (avec l'argument errors=coerce qui permet de convertir automatiquement les lignes qui ne sont pas des nombres en NaN)\n",
    "#Puis remplacement des NaN en 0\n",
    "sous_nutrition['Valeur'] = sous_nutrition['Valeur'].fillna(0)"
   ]
  },
  {
   "cell_type": "code",
   "execution_count": 107,
   "id": "34c98232",
   "metadata": {},
   "outputs": [],
   "source": [
    "#changement du nom de la colonne Valeur par sous_nutrition\n",
    "sous_nutrition.rename(columns={'Valeur' : 'sous_nutrition'}, inplace=True)"
   ]
  },
  {
   "cell_type": "code",
   "execution_count": 108,
   "id": "002110fa",
   "metadata": {},
   "outputs": [],
   "source": [
    "#Multiplication de la colonne sous_nutrition par 1000000\n",
    "sous_nutrition['sous_nutrition'] = sous_nutrition['sous_nutrition'] * 1000000"
   ]
  },
  {
   "cell_type": "code",
   "execution_count": 109,
   "id": "58259b55",
   "metadata": {},
   "outputs": [
    {
     "name": "stdout",
     "output_type": "stream",
     "text": [
      "          Zone      Année  sous_nutrition\n",
      "0  Afghanistan  2012-2014       8600000.0\n",
      "1  Afghanistan  2013-2015       8800000.0\n",
      "2  Afghanistan  2014-2016       8900000.0\n",
      "3  Afghanistan  2015-2017       9700000.0\n",
      "4  Afghanistan  2016-2018      10500000.0\n"
     ]
    }
   ],
   "source": [
    "#Afficher les 5 premières lignes de la table\n",
    "print(sous_nutrition.head())"
   ]
  },
  {
   "cell_type": "markdown",
   "id": "df6dcabd",
   "metadata": {},
   "source": [
    "<div style=\"border: 1px solid RGB(0,150,250);\" >\n",
    "<h3 style=\"margin: auto; padding: 20px; color: RGB(0,150,250); \">3.1 - Proportion de personnes en sous nutrition</h3>\n",
    "</div>"
   ]
  },
  {
   "cell_type": "code",
   "execution_count": 110,
   "id": "a63e1567",
   "metadata": {},
   "outputs": [],
   "source": [
    "# Il faut tout d'abord faire une jointure entre la table population et la table sous nutrition, en ciblant l'année 2017\n",
    "population['Année'] = population['Année'].astype(str)\n",
    "sous_nutrition['Année'] = sous_nutrition['Année'].apply(lambda x: '2017' if isinstance(x, str) and '2016-2018' in x else None)\n",
    "sous_nutrition = sous_nutrition.dropna(subset=['Année'])\n",
    "sous_nutrition = sous_nutrition.sort_values(by=['Zone', 'Année'], ascending=[True, False]).drop_duplicates(subset='Zone', keep='first')\n",
    "\n",
    "population_2017 = pd.merge(population, sous_nutrition, on=['Zone', 'Année'], how='inner', suffixes=('_population', '_sous_nutrition'))"
   ]
  },
  {
   "cell_type": "code",
   "execution_count": 154,
   "id": "731eea39",
   "metadata": {},
   "outputs": [
    {
     "data": {
      "text/html": [
       "<div>\n",
       "<style scoped>\n",
       "    .dataframe tbody tr th:only-of-type {\n",
       "        vertical-align: middle;\n",
       "    }\n",
       "\n",
       "    .dataframe tbody tr th {\n",
       "        vertical-align: top;\n",
       "    }\n",
       "\n",
       "    .dataframe thead th {\n",
       "        text-align: right;\n",
       "    }\n",
       "</style>\n",
       "<table border=\"1\" class=\"dataframe\">\n",
       "  <thead>\n",
       "    <tr style=\"text-align: right;\">\n",
       "      <th></th>\n",
       "      <th>Zone</th>\n",
       "      <th>Année</th>\n",
       "      <th>Population</th>\n",
       "      <th>sous_nutrition</th>\n",
       "      <th>Proportion de personnes en sous nutrition en %</th>\n",
       "    </tr>\n",
       "  </thead>\n",
       "  <tbody>\n",
       "    <tr>\n",
       "      <th>0</th>\n",
       "      <td>Afghanistan</td>\n",
       "      <td>2017</td>\n",
       "      <td>36296113.0</td>\n",
       "      <td>10500000.0</td>\n",
       "      <td>22.437761</td>\n",
       "    </tr>\n",
       "    <tr>\n",
       "      <th>1</th>\n",
       "      <td>Afrique du Sud</td>\n",
       "      <td>2017</td>\n",
       "      <td>57009756.0</td>\n",
       "      <td>3100000.0</td>\n",
       "      <td>5.157233</td>\n",
       "    </tr>\n",
       "    <tr>\n",
       "      <th>2</th>\n",
       "      <td>Albanie</td>\n",
       "      <td>2017</td>\n",
       "      <td>2884169.0</td>\n",
       "      <td>100000.0</td>\n",
       "      <td>3.351017</td>\n",
       "    </tr>\n",
       "    <tr>\n",
       "      <th>3</th>\n",
       "      <td>Algérie</td>\n",
       "      <td>2017</td>\n",
       "      <td>41389189.0</td>\n",
       "      <td>1300000.0</td>\n",
       "      <td>3.045268</td>\n",
       "    </tr>\n",
       "    <tr>\n",
       "      <th>4</th>\n",
       "      <td>Allemagne</td>\n",
       "      <td>2017</td>\n",
       "      <td>82658409.0</td>\n",
       "      <td>0.0</td>\n",
       "      <td>0.000000</td>\n",
       "    </tr>\n",
       "    <tr>\n",
       "      <th>...</th>\n",
       "      <td>...</td>\n",
       "      <td>...</td>\n",
       "      <td>...</td>\n",
       "      <td>...</td>\n",
       "      <td>...</td>\n",
       "    </tr>\n",
       "    <tr>\n",
       "      <th>198</th>\n",
       "      <td>Venezuela (République bolivarienne du)</td>\n",
       "      <td>2017</td>\n",
       "      <td>29402484.0</td>\n",
       "      <td>8000000.0</td>\n",
       "      <td>21.388954</td>\n",
       "    </tr>\n",
       "    <tr>\n",
       "      <th>199</th>\n",
       "      <td>Viet Nam</td>\n",
       "      <td>2017</td>\n",
       "      <td>94600648.0</td>\n",
       "      <td>6500000.0</td>\n",
       "      <td>6.429237</td>\n",
       "    </tr>\n",
       "    <tr>\n",
       "      <th>200</th>\n",
       "      <td>Yémen</td>\n",
       "      <td>2017</td>\n",
       "      <td>27834819.0</td>\n",
       "      <td>0.0</td>\n",
       "      <td>0.000000</td>\n",
       "    </tr>\n",
       "    <tr>\n",
       "      <th>201</th>\n",
       "      <td>Zambie</td>\n",
       "      <td>2017</td>\n",
       "      <td>16853599.0</td>\n",
       "      <td>0.0</td>\n",
       "      <td>0.000000</td>\n",
       "    </tr>\n",
       "    <tr>\n",
       "      <th>202</th>\n",
       "      <td>Zimbabwe</td>\n",
       "      <td>2017</td>\n",
       "      <td>14236595.0</td>\n",
       "      <td>0.0</td>\n",
       "      <td>0.000000</td>\n",
       "    </tr>\n",
       "  </tbody>\n",
       "</table>\n",
       "<p>203 rows × 5 columns</p>\n",
       "</div>"
      ],
      "text/plain": [
       "                                       Zone Année  Population  sous_nutrition  \\\n",
       "0                               Afghanistan  2017  36296113.0      10500000.0   \n",
       "1                            Afrique du Sud  2017  57009756.0       3100000.0   \n",
       "2                                   Albanie  2017   2884169.0        100000.0   \n",
       "3                                   Algérie  2017  41389189.0       1300000.0   \n",
       "4                                 Allemagne  2017  82658409.0             0.0   \n",
       "..                                      ...   ...         ...             ...   \n",
       "198  Venezuela (République bolivarienne du)  2017  29402484.0       8000000.0   \n",
       "199                                Viet Nam  2017  94600648.0       6500000.0   \n",
       "200                                   Yémen  2017  27834819.0             0.0   \n",
       "201                                  Zambie  2017  16853599.0             0.0   \n",
       "202                                Zimbabwe  2017  14236595.0             0.0   \n",
       "\n",
       "     Proportion de personnes en sous nutrition en %  \n",
       "0                                         22.437761  \n",
       "1                                          5.157233  \n",
       "2                                          3.351017  \n",
       "3                                          3.045268  \n",
       "4                                          0.000000  \n",
       "..                                              ...  \n",
       "198                                       21.388954  \n",
       "199                                        6.429237  \n",
       "200                                        0.000000  \n",
       "201                                        0.000000  \n",
       "202                                        0.000000  \n",
       "\n",
       "[203 rows x 5 columns]"
      ]
     },
     "execution_count": 154,
     "metadata": {},
     "output_type": "execute_result"
    }
   ],
   "source": [
    "#Affichage du dataset\n",
    "\n",
    "population_2017"
   ]
  },
  {
   "cell_type": "code",
   "execution_count": 112,
   "id": "28e2741f",
   "metadata": {},
   "outputs": [
    {
     "name": "stdout",
     "output_type": "stream",
     "text": [
      "Nombre total de personnes en état de sous-nutrition en 2017 : 535700000\n",
      "Pourcentage de personnes en sous nutrition : 7 %\n"
     ]
    }
   ],
   "source": [
    "#Calcul et affichage du nombre de personnes en état de sous nutrition\n",
    "nombre_sous_nutrition = population_2017['sous_nutrition'].sum()\n",
    "proportion_sous_nutrition = nombre_sous_nutrition / population_2017['Population'].sum() * 100\n",
    "# Affichage du résultat\n",
    "print(f'Nombre total de personnes en état de sous-nutrition en 2017 : {nombre_sous_nutrition:.0f}')\n",
    "print(f'Pourcentage de personnes en sous nutrition : {proportion_sous_nutrition:.0f} %')"
   ]
  },
  {
   "cell_type": "markdown",
   "id": "b4134a24",
   "metadata": {},
   "source": [
    "<div style=\"border: 1px solid RGB(0,150,250);\" >\n",
    "<h3 style=\"margin: auto; padding: 20px; color: RGB(0,150,250); \">3.2 - Nombre théorique de personne qui pourrait être nourries</h3>\n",
    "</div>"
   ]
  },
  {
   "cell_type": "code",
   "execution_count": 113,
   "id": "2b63df85",
   "metadata": {
    "scrolled": true
   },
   "outputs": [
    {
     "name": "stdout",
     "output_type": "stream",
     "text": [
      "Un être humain mange en moyenne 2200 kcalories par jour\n"
     ]
    }
   ],
   "source": [
    "#Combien mange en moyenne un être humain ? Source => Vidal.fr\n",
    "nombre_kcal = 2200\n",
    "print(f\"Un être humain mange en moyenne {nombre_kcal} kcalories par jour\")"
   ]
  },
  {
   "cell_type": "code",
   "execution_count": 114,
   "id": "5e3f262d",
   "metadata": {},
   "outputs": [],
   "source": [
    "#On commence par faire une jointure entre le data frame population et Dispo_alimentaire afin d'ajouter dans ce dernier la population\n",
    "df = dispo_alimentaire.groupby(\"Zone\")[\"Disponibilité alimentaire (Kcal/personne/jour)\"].sum()\n",
    "dispo_alimentaire_population = pd.merge(right = df, left = population_2017, how = \"inner\", on=\"Zone\")"
   ]
  },
  {
   "cell_type": "code",
   "execution_count": 155,
   "id": "4538126c",
   "metadata": {},
   "outputs": [
    {
     "data": {
      "text/html": [
       "<div>\n",
       "<style scoped>\n",
       "    .dataframe tbody tr th:only-of-type {\n",
       "        vertical-align: middle;\n",
       "    }\n",
       "\n",
       "    .dataframe tbody tr th {\n",
       "        vertical-align: top;\n",
       "    }\n",
       "\n",
       "    .dataframe thead th {\n",
       "        text-align: right;\n",
       "    }\n",
       "</style>\n",
       "<table border=\"1\" class=\"dataframe\">\n",
       "  <thead>\n",
       "    <tr style=\"text-align: right;\">\n",
       "      <th></th>\n",
       "      <th>Zone</th>\n",
       "      <th>Année</th>\n",
       "      <th>Population</th>\n",
       "      <th>sous_nutrition</th>\n",
       "      <th>Disponibilité alimentaire (Kcal/personne/jour)</th>\n",
       "      <th>dispo_kcal</th>\n",
       "    </tr>\n",
       "  </thead>\n",
       "  <tbody>\n",
       "    <tr>\n",
       "      <th>0</th>\n",
       "      <td>Afghanistan</td>\n",
       "      <td>2017</td>\n",
       "      <td>36296113.0</td>\n",
       "      <td>10500000.0</td>\n",
       "      <td>2087.0</td>\n",
       "      <td>7.574999e+10</td>\n",
       "    </tr>\n",
       "    <tr>\n",
       "      <th>1</th>\n",
       "      <td>Afrique du Sud</td>\n",
       "      <td>2017</td>\n",
       "      <td>57009756.0</td>\n",
       "      <td>3100000.0</td>\n",
       "      <td>3020.0</td>\n",
       "      <td>1.721695e+11</td>\n",
       "    </tr>\n",
       "    <tr>\n",
       "      <th>2</th>\n",
       "      <td>Albanie</td>\n",
       "      <td>2017</td>\n",
       "      <td>2884169.0</td>\n",
       "      <td>100000.0</td>\n",
       "      <td>3188.0</td>\n",
       "      <td>9.194731e+09</td>\n",
       "    </tr>\n",
       "    <tr>\n",
       "      <th>3</th>\n",
       "      <td>Algérie</td>\n",
       "      <td>2017</td>\n",
       "      <td>41389189.0</td>\n",
       "      <td>1300000.0</td>\n",
       "      <td>3293.0</td>\n",
       "      <td>1.362946e+11</td>\n",
       "    </tr>\n",
       "    <tr>\n",
       "      <th>4</th>\n",
       "      <td>Allemagne</td>\n",
       "      <td>2017</td>\n",
       "      <td>82658409.0</td>\n",
       "      <td>0.0</td>\n",
       "      <td>3503.0</td>\n",
       "      <td>2.895524e+11</td>\n",
       "    </tr>\n",
       "    <tr>\n",
       "      <th>...</th>\n",
       "      <td>...</td>\n",
       "      <td>...</td>\n",
       "      <td>...</td>\n",
       "      <td>...</td>\n",
       "      <td>...</td>\n",
       "      <td>...</td>\n",
       "    </tr>\n",
       "    <tr>\n",
       "      <th>167</th>\n",
       "      <td>Venezuela (République bolivarienne du)</td>\n",
       "      <td>2017</td>\n",
       "      <td>29402484.0</td>\n",
       "      <td>8000000.0</td>\n",
       "      <td>2633.0</td>\n",
       "      <td>7.741674e+10</td>\n",
       "    </tr>\n",
       "    <tr>\n",
       "      <th>168</th>\n",
       "      <td>Viet Nam</td>\n",
       "      <td>2017</td>\n",
       "      <td>94600648.0</td>\n",
       "      <td>6500000.0</td>\n",
       "      <td>2744.0</td>\n",
       "      <td>2.595842e+11</td>\n",
       "    </tr>\n",
       "    <tr>\n",
       "      <th>169</th>\n",
       "      <td>Yémen</td>\n",
       "      <td>2017</td>\n",
       "      <td>27834819.0</td>\n",
       "      <td>0.0</td>\n",
       "      <td>2217.0</td>\n",
       "      <td>6.170979e+10</td>\n",
       "    </tr>\n",
       "    <tr>\n",
       "      <th>170</th>\n",
       "      <td>Zambie</td>\n",
       "      <td>2017</td>\n",
       "      <td>16853599.0</td>\n",
       "      <td>0.0</td>\n",
       "      <td>1924.0</td>\n",
       "      <td>3.242632e+10</td>\n",
       "    </tr>\n",
       "    <tr>\n",
       "      <th>171</th>\n",
       "      <td>Zimbabwe</td>\n",
       "      <td>2017</td>\n",
       "      <td>14236595.0</td>\n",
       "      <td>0.0</td>\n",
       "      <td>2113.0</td>\n",
       "      <td>3.008193e+10</td>\n",
       "    </tr>\n",
       "  </tbody>\n",
       "</table>\n",
       "<p>172 rows × 6 columns</p>\n",
       "</div>"
      ],
      "text/plain": [
       "                                       Zone Année  Population  sous_nutrition  \\\n",
       "0                               Afghanistan  2017  36296113.0      10500000.0   \n",
       "1                            Afrique du Sud  2017  57009756.0       3100000.0   \n",
       "2                                   Albanie  2017   2884169.0        100000.0   \n",
       "3                                   Algérie  2017  41389189.0       1300000.0   \n",
       "4                                 Allemagne  2017  82658409.0             0.0   \n",
       "..                                      ...   ...         ...             ...   \n",
       "167  Venezuela (République bolivarienne du)  2017  29402484.0       8000000.0   \n",
       "168                                Viet Nam  2017  94600648.0       6500000.0   \n",
       "169                                   Yémen  2017  27834819.0             0.0   \n",
       "170                                  Zambie  2017  16853599.0             0.0   \n",
       "171                                Zimbabwe  2017  14236595.0             0.0   \n",
       "\n",
       "     Disponibilité alimentaire (Kcal/personne/jour)    dispo_kcal  \n",
       "0                                            2087.0  7.574999e+10  \n",
       "1                                            3020.0  1.721695e+11  \n",
       "2                                            3188.0  9.194731e+09  \n",
       "3                                            3293.0  1.362946e+11  \n",
       "4                                            3503.0  2.895524e+11  \n",
       "..                                              ...           ...  \n",
       "167                                          2633.0  7.741674e+10  \n",
       "168                                          2744.0  2.595842e+11  \n",
       "169                                          2217.0  6.170979e+10  \n",
       "170                                          1924.0  3.242632e+10  \n",
       "171                                          2113.0  3.008193e+10  \n",
       "\n",
       "[172 rows x 6 columns]"
      ]
     },
     "execution_count": 155,
     "metadata": {},
     "output_type": "execute_result"
    }
   ],
   "source": [
    "#Affichage du nouveau dataframe\n",
    "dispo_alimentaire_population"
   ]
  },
  {
   "cell_type": "code",
   "execution_count": 116,
   "id": "5305ba25",
   "metadata": {},
   "outputs": [
    {
     "name": "stdout",
     "output_type": "stream",
     "text": [
      "La disponibilité mondiale en calories est de 20918984627331.0 par jour\n"
     ]
    }
   ],
   "source": [
    "#Création de la colonne dispo_kcal avec calcul des kcal disponibles mondialement\n",
    "dispo_alimentaire_population['dispo_kcal'] = (dispo_alimentaire_population['Disponibilité alimentaire (Kcal/personne/jour)']) * dispo_alimentaire_population['Population']\n",
    "\n",
    "dispo_kcal_mondiale = dispo_alimentaire_population['dispo_kcal'].sum()\n",
    "\n",
    "print(f\"La disponibilité mondiale en calories est de {dispo_kcal_mondiale} par jour\")"
   ]
  },
  {
   "cell_type": "code",
   "execution_count": 117,
   "id": "a6d4af90",
   "metadata": {},
   "outputs": [
    {
     "name": "stdout",
     "output_type": "stream",
     "text": [
      "Le nombre d'humains pouvant être nourris avec la disponibilité mondiale en calories est de 9508629376.059546 par jour\n",
      "La disponibilité mondiale peut couvrir 115.95889482999446% des besoins humains dans le monde\n"
     ]
    }
   ],
   "source": [
    "#Calcul du nombre d'humains pouvant être nourris\n",
    "besoin_cal_annuel_par_personne = nombre_kcal \n",
    "nombre_humains_nourris = dispo_kcal_mondiale / besoin_cal_annuel_par_personne\n",
    "population_mondiale = 8200000000\n",
    "pourcentage_humains_nourris = nombre_humains_nourris / population_mondiale * 100\n",
    "print(f\"Le nombre d'humains pouvant être nourris avec la disponibilité mondiale en calories est de {nombre_humains_nourris} par jour\")\n",
    "print(f\"La disponibilité mondiale peut couvrir {pourcentage_humains_nourris}% des besoins humains dans le monde\")"
   ]
  },
  {
   "cell_type": "markdown",
   "id": "e97c8886",
   "metadata": {},
   "source": [
    "<div style=\"border: 1px solid RGB(0,150,250);\" >\n",
    "<h3 style=\"margin: auto; padding: 20px; color: RGB(0,150,250); \">3.3 - Nombre théorique de personne qui pourrait être nourrie avec les produits végétaux</h3>\n",
    "</div>"
   ]
  },
  {
   "cell_type": "code",
   "execution_count": 118,
   "id": "c2e3c87c",
   "metadata": {},
   "outputs": [
    {
     "name": "stdout",
     "output_type": "stream",
     "text": [
      "          Zone Année  Population  sous_nutrition                Produit  \\\n",
      "0  Afghanistan  2017  36296113.0      10500000.0        Agrumes, Autres   \n",
      "1  Afghanistan  2017  36296113.0      10500000.0  Aliments pour enfants   \n",
      "2  Afghanistan  2017  36296113.0      10500000.0                 Ananas   \n",
      "3  Afghanistan  2017  36296113.0      10500000.0                Bananes   \n",
      "4  Afghanistan  2017  36296113.0      10500000.0                  Bière   \n",
      "\n",
      "    Origine  Aliments pour animaux  Autres Utilisations  \\\n",
      "0  vegetale                    0.0                  0.0   \n",
      "1  vegetale                    0.0                  0.0   \n",
      "2  vegetale                    0.0                  0.0   \n",
      "3  vegetale                    0.0                  0.0   \n",
      "4  vegetale                    0.0                  0.0   \n",
      "\n",
      "   Disponibilité alimentaire (Kcal/personne/jour)  \\\n",
      "0                                             1.0   \n",
      "1                                             1.0   \n",
      "2                                             0.0   \n",
      "3                                             4.0   \n",
      "4                                             0.0   \n",
      "\n",
      "   Disponibilité alimentaire en quantité (kg/personne/an)  ...  \\\n",
      "0                                               1.29       ...   \n",
      "1                                               0.06       ...   \n",
      "2                                               0.00       ...   \n",
      "3                                               2.70       ...   \n",
      "4                                               0.09       ...   \n",
      "\n",
      "   Disponibilité de protéines en quantité (g/personne/jour)  \\\n",
      "0                                               0.02          \n",
      "1                                               0.03          \n",
      "2                                               0.00          \n",
      "3                                               0.05          \n",
      "4                                               0.00          \n",
      "\n",
      "   Disponibilité intérieure  Exportations - Quantité  Importations - Quantité  \\\n",
      "0                   41000.0                   2000.0                  40000.0   \n",
      "1                    2000.0                      0.0                   2000.0   \n",
      "2                       0.0                      0.0                      0.0   \n",
      "3                   82000.0                      0.0                  82000.0   \n",
      "4                    3000.0                      0.0                   3000.0   \n",
      "\n",
      "   Nourriture  Pertes  Production  Semences  Traitement  Variation de stock  \n",
      "0     39000.0  2000.0      3000.0       0.0         0.0                 0.0  \n",
      "1      2000.0     0.0         0.0       0.0         0.0                 0.0  \n",
      "2         0.0     0.0         0.0       0.0         0.0                 0.0  \n",
      "3     82000.0     0.0         0.0       0.0         0.0                 0.0  \n",
      "4      3000.0     0.0         0.0       0.0         0.0                 0.0  \n",
      "\n",
      "[5 rows x 21 columns]\n"
     ]
    }
   ],
   "source": [
    "#Transfert des données avec les végétaux dans un nouveau dataframe\n",
    "dispo_alimentaire_vegetale = dispo_alimentaire[dispo_alimentaire['Origine'] == 'vegetale']\n",
    "\n",
    "# Effectuer la jointure entre le DataFrame filtré et population\n",
    "resultat_vegetale = pd.merge(population_2017, dispo_alimentaire_vegetale, how='inner', on=['Zone'])\n",
    "\n",
    "# Afficher les premières lignes du nouveau DataFrame pour vérifier\n",
    "print(resultat_vegetale.head())"
   ]
  },
  {
   "cell_type": "code",
   "execution_count": 119,
   "id": "534f3ad7",
   "metadata": {},
   "outputs": [
    {
     "name": "stdout",
     "output_type": "stream",
     "text": [
      "La disponibilité mondiale en calories végétales est de 17260764211501.0 par jour\n"
     ]
    }
   ],
   "source": [
    "#Calcul du nombre de kcal disponible pour les végétaux\n",
    "resultat_vegetale['dispo_kcal'] = resultat_vegetale['Disponibilité alimentaire (Kcal/personne/jour)'] * resultat_vegetale['Population']\n",
    "\n",
    "dispo_mondiale_vegetale = resultat_vegetale['dispo_kcal'].sum()\n",
    "\n",
    "print(f\"La disponibilité mondiale en calories végétales est de {dispo_mondiale_vegetale} par jour\")"
   ]
  },
  {
   "cell_type": "code",
   "execution_count": 120,
   "id": "8c82da41",
   "metadata": {},
   "outputs": [
    {
     "name": "stdout",
     "output_type": "stream",
     "text": [
      "Le nombre d'humains pouvant être nourris avec la disponibilité mondiale végétale en calories est de 7845801914.318636 par jour\n",
      "La disponibilité végétale mondiale peut couvrir 95.68051115022726% des besoins humains dans le monde\n"
     ]
    }
   ],
   "source": [
    "#Calcul du nombre d'humains pouvant être nourris avec les végétaux\n",
    "besoin_cal_annuel_par_personne = nombre_kcal\n",
    "nombre_humains_nourris_vegetale = dispo_mondiale_vegetale / besoin_cal_annuel_par_personne\n",
    "population_mondiale = 8200000000\n",
    "pourcentage_humains_nourris_vegetale = nombre_humains_nourris_vegetale / population_mondiale * 100\n",
    "\n",
    "print(f\"Le nombre d'humains pouvant être nourris avec la disponibilité mondiale végétale en calories est de {nombre_humains_nourris_vegetale} par jour\")\n",
    "print(f\"La disponibilité végétale mondiale peut couvrir {pourcentage_humains_nourris_vegetale}% des besoins humains dans le monde\")\n"
   ]
  },
  {
   "cell_type": "markdown",
   "id": "cd07afb1",
   "metadata": {},
   "source": [
    "<div style=\"border: 1px solid RGB(0,150,250);\" >\n",
    "<h3 style=\"margin: auto; padding: 20px; color: RGB(0,150,250); \">3.4 - Utilisation de la disponibilité intérieure</h3>\n",
    "</div>"
   ]
  },
  {
   "cell_type": "code",
   "execution_count": 121,
   "id": "71328746",
   "metadata": {},
   "outputs": [
    {
     "name": "stdout",
     "output_type": "stream",
     "text": [
      "La disponibilité intérieure totale est de 9848994000.0 kg pour 2017\n",
      "La part d'alimentation humaine totale est de 13.242418464261426 % pour 2017\n",
      "La part d'alimentation animale totale est de 49.51021393657058 % pour 2017\n",
      "La part de perte totale est de 4.606541541196999 % pour 2017\n",
      "La part de semences totale est de 1.5705258831511117 % pour 2017\n",
      "La part de traitement totale est de 22.384895350733284 % pour 2017\n",
      "La part des autres utilisations totale est de 8.782856401374598 % pour 2017\n"
     ]
    }
   ],
   "source": [
    "#Calcul de la disponibilité totale\n",
    "disponibilité_totale = dispo_alimentaire['Disponibilité intérieure'].sum()\n",
    "nourriture_totale = dispo_alimentaire['Nourriture'].sum()\n",
    "pertes_totale = dispo_alimentaire['Pertes'].sum()\n",
    "animaux_totale = dispo_alimentaire['Aliments pour animaux'].sum()\n",
    "semences_totale = dispo_alimentaire['Semences'].sum()\n",
    "traitement_totale = dispo_alimentaire['Traitement'].sum()\n",
    "autres_totale = dispo_alimentaire['Autres Utilisations'].sum()\n",
    "\n",
    "part_pertes = pertes_totale/disponibilité_totale * 100\n",
    "part_nourriture = nourriture_totale/disponibilité_totale * 100\n",
    "part_animaux = animaux_totale/disponibilité_totale * 100\n",
    "part_semences = semences_totale/disponibilité_totale * 100\n",
    "part_traitement = traitement_totale/disponibilité_totale * 100\n",
    "part_autres = autres_totale/disponibilité_totale * 100\n",
    "\n",
    "print(f\"La disponibilité intérieure totale est de {disponibilité_totale} kg pour 2017\")\n",
    "\n",
    "print(f\"La part d'alimentation humaine totale est de {part_animaux} % pour 2017\")\n",
    "print(f\"La part d'alimentation animale totale est de {part_nourriture} % pour 2017\")\n",
    "print(f\"La part de perte totale est de {part_pertes} % pour 2017\")\n",
    "print(f\"La part de semences totale est de {part_semences} % pour 2017\")\n",
    "print(f\"La part de traitement totale est de {part_traitement} % pour 2017\")\n",
    "print(f\"La part des autres utilisations totale est de {part_autres} % pour 2017\")"
   ]
  },
  {
   "cell_type": "code",
   "execution_count": 131,
   "id": "03248095",
   "metadata": {},
   "outputs": [
    {
     "name": "stdout",
     "output_type": "stream",
     "text": [
      "La disponibilité de 'Aliments pour animaux' est : 1304.245 Tonnes\n",
      "La disponibilité de 'Pertes' est : 453.698 Tonnes\n",
      "La disponibilité de 'Nourriture' est : 4876.258 Tonnes\n",
      "La disponibilité de 'Traitement' est : 2204.687 Tonnes\n",
      "La disponibilité de 'Autres Utilisations' est : 865.023 Tonnes\n",
      "La disponibilité de 'Semences' est : 154.681 Tonnes\n"
     ]
    }
   ],
   "source": [
    "#création d'une boucle for pour afficher les différentes valeurs en fonction descolonnes aliments pour animaux,pertes,nourritures,\n",
    " #Liste des colonnes àparcourir\n",
    "colonnes_a_afficher= ['Aliments pour animaux', 'Pertes', 'Nourriture','Traitement','Autres Utilisations', 'Semences']\n",
    " #Bouclepourparcourir chaquecolonneetafficherlesvaleurs\n",
    "for colonne in colonnes_a_afficher:\n",
    "    sum_col = (dispo_alimentaire[colonne].sum()/1000000)\n",
    "    print(f\"La disponibilité de '{colonne}' est : {sum_col} Tonnes\")"
   ]
  },
  {
   "cell_type": "markdown",
   "id": "141d05df",
   "metadata": {},
   "source": [
    "<div style=\"border: 1px solid RGB(0,150,250);\" >\n",
    "<h3 style=\"margin: auto; padding: 20px; color: RGB(0,150,250); \">3.5 - Utilisation des céréales</h3>\n",
    "</div>"
   ]
  },
  {
   "cell_type": "code",
   "execution_count": 132,
   "id": "c27448ff",
   "metadata": {},
   "outputs": [
    {
     "name": "stdout",
     "output_type": "stream",
     "text": [
      "['Abats Comestible' 'Agrumes, Autres' 'Aliments pour enfants' 'Ananas'\n",
      " 'Bananes' 'Beurre, Ghee' 'Bière' 'Blé' 'Boissons Alcooliques' 'Café'\n",
      " 'Coco (Incl Coprah)' 'Crème' 'Céréales, Autres' 'Dattes'\n",
      " 'Edulcorants Autres' 'Feve de Cacao' 'Fruits, Autres' 'Graines de coton'\n",
      " 'Graines de tournesol' 'Graisses Animales Crue' 'Huil Plantes Oleif Autr'\n",
      " 'Huile Graines de Coton' \"Huile d'Arachide\" \"Huile d'Olive\"\n",
      " 'Huile de Colza&Moutarde' 'Huile de Palme' 'Huile de Soja'\n",
      " 'Huile de Sésame' 'Huile de Tournesol' 'Lait - Excl Beurre'\n",
      " 'Légumes, Autres' 'Légumineuses Autres' 'Maïs' 'Miel' 'Millet'\n",
      " 'Miscellanees' 'Noix' 'Oeufs' 'Olives' 'Oranges, Mandarines' 'Orge'\n",
      " 'Plantes Oleiferes, Autre' 'Poissons Eau Douce' 'Poivre' 'Pommes'\n",
      " 'Pommes de Terre' 'Raisin' 'Riz (Eq Blanchi)' 'Sucre Eq Brut'\n",
      " 'Sucre, betterave' 'Sucre, canne' 'Sésame' 'Thé' 'Tomates'\n",
      " \"Viande d'Ovins/Caprins\" 'Viande de Bovins' 'Viande de Volailles'\n",
      " 'Viande, Autre' 'Vin' 'Épices, Autres' 'Alcool, non Comestible'\n",
      " 'Animaux Aquatiques Autre' 'Arachides Decortiquees' 'Avoine'\n",
      " 'Bananes plantains' 'Boissons Fermentés' 'Cephalopodes' 'Citrons & Limes'\n",
      " 'Crustacés' 'Girofles' 'Graines Colza/Moutarde' 'Haricots'\n",
      " 'Huile de Coco' 'Huile de Germe de Maïs' 'Huile de Palmistes'\n",
      " 'Huiles de Foie de Poisso' 'Huiles de Poissons' 'Ignames' 'Manioc'\n",
      " 'Mollusques, Autres' 'Oignons' 'Palmistes' 'Pamplemousse'\n",
      " 'Patates douces' 'Perciform' 'Piments' 'Plantes Aquatiques' 'Pois'\n",
      " 'Poissons Marins, Autres' 'Poissons Pelagiques' 'Racines nda' 'Seigle'\n",
      " 'Soja' 'Sorgho' 'Viande de Suides' 'Huile de Son de Riz'\n",
      " 'Sucre non centrifugé' 'Viande de Anim Aquatiq']\n"
     ]
    }
   ],
   "source": [
    "#Création d'une liste avec toutes les variables\n",
    "valeurs_uniques = dispo_alimentaire['Produit'].unique()\n",
    "print(valeurs_uniques)\n",
    "\n",
    "#Création d'une liste avec toutes les variables de céréales\n"
   ]
  },
  {
   "cell_type": "code",
   "execution_count": 156,
   "id": "5dc5586d",
   "metadata": {},
   "outputs": [
    {
     "data": {
      "text/html": [
       "<div>\n",
       "<style scoped>\n",
       "    .dataframe tbody tr th:only-of-type {\n",
       "        vertical-align: middle;\n",
       "    }\n",
       "\n",
       "    .dataframe tbody tr th {\n",
       "        vertical-align: top;\n",
       "    }\n",
       "\n",
       "    .dataframe thead th {\n",
       "        text-align: right;\n",
       "    }\n",
       "</style>\n",
       "<table border=\"1\" class=\"dataframe\">\n",
       "  <thead>\n",
       "    <tr style=\"text-align: right;\">\n",
       "      <th></th>\n",
       "      <th>Zone</th>\n",
       "      <th>Produit</th>\n",
       "      <th>Origine</th>\n",
       "      <th>Aliments pour animaux</th>\n",
       "      <th>Autres Utilisations</th>\n",
       "      <th>Disponibilité alimentaire (Kcal/personne/jour)</th>\n",
       "      <th>Disponibilité alimentaire en quantité (kg/personne/an)</th>\n",
       "      <th>Disponibilité de matière grasse en quantité (g/personne/jour)</th>\n",
       "      <th>Disponibilité de protéines en quantité (g/personne/jour)</th>\n",
       "      <th>Disponibilité intérieure</th>\n",
       "      <th>Exportations - Quantité</th>\n",
       "      <th>Importations - Quantité</th>\n",
       "      <th>Nourriture</th>\n",
       "      <th>Pertes</th>\n",
       "      <th>Production</th>\n",
       "      <th>Semences</th>\n",
       "      <th>Traitement</th>\n",
       "      <th>Variation de stock</th>\n",
       "    </tr>\n",
       "  </thead>\n",
       "  <tbody>\n",
       "    <tr>\n",
       "      <th>7</th>\n",
       "      <td>Afghanistan</td>\n",
       "      <td>Blé</td>\n",
       "      <td>vegetale</td>\n",
       "      <td>0.0</td>\n",
       "      <td>0.0</td>\n",
       "      <td>1369.0</td>\n",
       "      <td>160.23</td>\n",
       "      <td>4.69</td>\n",
       "      <td>36.91</td>\n",
       "      <td>5992000.0</td>\n",
       "      <td>0.0</td>\n",
       "      <td>1173000.0</td>\n",
       "      <td>4895000.0</td>\n",
       "      <td>775000.0</td>\n",
       "      <td>5169000.0</td>\n",
       "      <td>322000.0</td>\n",
       "      <td>0.0</td>\n",
       "      <td>-350000.0</td>\n",
       "    </tr>\n",
       "    <tr>\n",
       "      <th>12</th>\n",
       "      <td>Afghanistan</td>\n",
       "      <td>Céréales, Autres</td>\n",
       "      <td>vegetale</td>\n",
       "      <td>0.0</td>\n",
       "      <td>0.0</td>\n",
       "      <td>0.0</td>\n",
       "      <td>0.00</td>\n",
       "      <td>0.00</td>\n",
       "      <td>0.00</td>\n",
       "      <td>0.0</td>\n",
       "      <td>0.0</td>\n",
       "      <td>0.0</td>\n",
       "      <td>0.0</td>\n",
       "      <td>0.0</td>\n",
       "      <td>0.0</td>\n",
       "      <td>0.0</td>\n",
       "      <td>0.0</td>\n",
       "      <td>0.0</td>\n",
       "    </tr>\n",
       "    <tr>\n",
       "      <th>32</th>\n",
       "      <td>Afghanistan</td>\n",
       "      <td>Maïs</td>\n",
       "      <td>vegetale</td>\n",
       "      <td>200000.0</td>\n",
       "      <td>0.0</td>\n",
       "      <td>21.0</td>\n",
       "      <td>2.50</td>\n",
       "      <td>0.30</td>\n",
       "      <td>0.56</td>\n",
       "      <td>313000.0</td>\n",
       "      <td>0.0</td>\n",
       "      <td>1000.0</td>\n",
       "      <td>76000.0</td>\n",
       "      <td>31000.0</td>\n",
       "      <td>312000.0</td>\n",
       "      <td>5000.0</td>\n",
       "      <td>0.0</td>\n",
       "      <td>0.0</td>\n",
       "    </tr>\n",
       "    <tr>\n",
       "      <th>34</th>\n",
       "      <td>Afghanistan</td>\n",
       "      <td>Millet</td>\n",
       "      <td>vegetale</td>\n",
       "      <td>0.0</td>\n",
       "      <td>0.0</td>\n",
       "      <td>3.0</td>\n",
       "      <td>0.40</td>\n",
       "      <td>0.02</td>\n",
       "      <td>0.08</td>\n",
       "      <td>13000.0</td>\n",
       "      <td>0.0</td>\n",
       "      <td>0.0</td>\n",
       "      <td>12000.0</td>\n",
       "      <td>1000.0</td>\n",
       "      <td>13000.0</td>\n",
       "      <td>0.0</td>\n",
       "      <td>0.0</td>\n",
       "      <td>0.0</td>\n",
       "    </tr>\n",
       "    <tr>\n",
       "      <th>40</th>\n",
       "      <td>Afghanistan</td>\n",
       "      <td>Orge</td>\n",
       "      <td>vegetale</td>\n",
       "      <td>360000.0</td>\n",
       "      <td>0.0</td>\n",
       "      <td>26.0</td>\n",
       "      <td>2.92</td>\n",
       "      <td>0.24</td>\n",
       "      <td>0.79</td>\n",
       "      <td>524000.0</td>\n",
       "      <td>0.0</td>\n",
       "      <td>10000.0</td>\n",
       "      <td>89000.0</td>\n",
       "      <td>52000.0</td>\n",
       "      <td>514000.0</td>\n",
       "      <td>22000.0</td>\n",
       "      <td>0.0</td>\n",
       "      <td>0.0</td>\n",
       "    </tr>\n",
       "    <tr>\n",
       "      <th>...</th>\n",
       "      <td>...</td>\n",
       "      <td>...</td>\n",
       "      <td>...</td>\n",
       "      <td>...</td>\n",
       "      <td>...</td>\n",
       "      <td>...</td>\n",
       "      <td>...</td>\n",
       "      <td>...</td>\n",
       "      <td>...</td>\n",
       "      <td>...</td>\n",
       "      <td>...</td>\n",
       "      <td>...</td>\n",
       "      <td>...</td>\n",
       "      <td>...</td>\n",
       "      <td>...</td>\n",
       "      <td>...</td>\n",
       "      <td>...</td>\n",
       "      <td>...</td>\n",
       "    </tr>\n",
       "    <tr>\n",
       "      <th>15545</th>\n",
       "      <td>Îles Salomon</td>\n",
       "      <td>Céréales, Autres</td>\n",
       "      <td>vegetale</td>\n",
       "      <td>0.0</td>\n",
       "      <td>0.0</td>\n",
       "      <td>0.0</td>\n",
       "      <td>0.00</td>\n",
       "      <td>0.00</td>\n",
       "      <td>0.00</td>\n",
       "      <td>0.0</td>\n",
       "      <td>0.0</td>\n",
       "      <td>0.0</td>\n",
       "      <td>0.0</td>\n",
       "      <td>0.0</td>\n",
       "      <td>0.0</td>\n",
       "      <td>0.0</td>\n",
       "      <td>0.0</td>\n",
       "      <td>0.0</td>\n",
       "    </tr>\n",
       "    <tr>\n",
       "      <th>15568</th>\n",
       "      <td>Îles Salomon</td>\n",
       "      <td>Maïs</td>\n",
       "      <td>vegetale</td>\n",
       "      <td>0.0</td>\n",
       "      <td>0.0</td>\n",
       "      <td>1.0</td>\n",
       "      <td>0.15</td>\n",
       "      <td>0.01</td>\n",
       "      <td>0.03</td>\n",
       "      <td>0.0</td>\n",
       "      <td>0.0</td>\n",
       "      <td>0.0</td>\n",
       "      <td>0.0</td>\n",
       "      <td>0.0</td>\n",
       "      <td>0.0</td>\n",
       "      <td>0.0</td>\n",
       "      <td>0.0</td>\n",
       "      <td>0.0</td>\n",
       "    </tr>\n",
       "    <tr>\n",
       "      <th>15575</th>\n",
       "      <td>Îles Salomon</td>\n",
       "      <td>Orge</td>\n",
       "      <td>vegetale</td>\n",
       "      <td>0.0</td>\n",
       "      <td>0.0</td>\n",
       "      <td>0.0</td>\n",
       "      <td>0.07</td>\n",
       "      <td>0.00</td>\n",
       "      <td>0.01</td>\n",
       "      <td>1000.0</td>\n",
       "      <td>0.0</td>\n",
       "      <td>1000.0</td>\n",
       "      <td>0.0</td>\n",
       "      <td>0.0</td>\n",
       "      <td>0.0</td>\n",
       "      <td>0.0</td>\n",
       "      <td>1000.0</td>\n",
       "      <td>0.0</td>\n",
       "    </tr>\n",
       "    <tr>\n",
       "      <th>15591</th>\n",
       "      <td>Îles Salomon</td>\n",
       "      <td>Riz (Eq Blanchi)</td>\n",
       "      <td>vegetale</td>\n",
       "      <td>0.0</td>\n",
       "      <td>12000.0</td>\n",
       "      <td>623.0</td>\n",
       "      <td>63.76</td>\n",
       "      <td>1.36</td>\n",
       "      <td>10.90</td>\n",
       "      <td>49000.0</td>\n",
       "      <td>0.0</td>\n",
       "      <td>47000.0</td>\n",
       "      <td>36000.0</td>\n",
       "      <td>1000.0</td>\n",
       "      <td>3000.0</td>\n",
       "      <td>0.0</td>\n",
       "      <td>0.0</td>\n",
       "      <td>0.0</td>\n",
       "    </tr>\n",
       "    <tr>\n",
       "      <th>15593</th>\n",
       "      <td>Îles Salomon</td>\n",
       "      <td>Sorgho</td>\n",
       "      <td>vegetale</td>\n",
       "      <td>0.0</td>\n",
       "      <td>0.0</td>\n",
       "      <td>0.0</td>\n",
       "      <td>0.00</td>\n",
       "      <td>0.00</td>\n",
       "      <td>0.00</td>\n",
       "      <td>0.0</td>\n",
       "      <td>0.0</td>\n",
       "      <td>0.0</td>\n",
       "      <td>0.0</td>\n",
       "      <td>0.0</td>\n",
       "      <td>0.0</td>\n",
       "      <td>0.0</td>\n",
       "      <td>0.0</td>\n",
       "      <td>0.0</td>\n",
       "    </tr>\n",
       "  </tbody>\n",
       "</table>\n",
       "<p>1497 rows × 18 columns</p>\n",
       "</div>"
      ],
      "text/plain": [
       "               Zone           Produit   Origine  Aliments pour animaux  \\\n",
       "7       Afghanistan               Blé  vegetale                    0.0   \n",
       "12      Afghanistan  Céréales, Autres  vegetale                    0.0   \n",
       "32      Afghanistan              Maïs  vegetale               200000.0   \n",
       "34      Afghanistan            Millet  vegetale                    0.0   \n",
       "40      Afghanistan              Orge  vegetale               360000.0   \n",
       "...             ...               ...       ...                    ...   \n",
       "15545  Îles Salomon  Céréales, Autres  vegetale                    0.0   \n",
       "15568  Îles Salomon              Maïs  vegetale                    0.0   \n",
       "15575  Îles Salomon              Orge  vegetale                    0.0   \n",
       "15591  Îles Salomon  Riz (Eq Blanchi)  vegetale                    0.0   \n",
       "15593  Îles Salomon            Sorgho  vegetale                    0.0   \n",
       "\n",
       "       Autres Utilisations  Disponibilité alimentaire (Kcal/personne/jour)  \\\n",
       "7                      0.0                                          1369.0   \n",
       "12                     0.0                                             0.0   \n",
       "32                     0.0                                            21.0   \n",
       "34                     0.0                                             3.0   \n",
       "40                     0.0                                            26.0   \n",
       "...                    ...                                             ...   \n",
       "15545                  0.0                                             0.0   \n",
       "15568                  0.0                                             1.0   \n",
       "15575                  0.0                                             0.0   \n",
       "15591              12000.0                                           623.0   \n",
       "15593                  0.0                                             0.0   \n",
       "\n",
       "       Disponibilité alimentaire en quantité (kg/personne/an)  \\\n",
       "7                                                 160.23        \n",
       "12                                                  0.00        \n",
       "32                                                  2.50        \n",
       "34                                                  0.40        \n",
       "40                                                  2.92        \n",
       "...                                                  ...        \n",
       "15545                                               0.00        \n",
       "15568                                               0.15        \n",
       "15575                                               0.07        \n",
       "15591                                              63.76        \n",
       "15593                                               0.00        \n",
       "\n",
       "       Disponibilité de matière grasse en quantité (g/personne/jour)  \\\n",
       "7                                                   4.69               \n",
       "12                                                  0.00               \n",
       "32                                                  0.30               \n",
       "34                                                  0.02               \n",
       "40                                                  0.24               \n",
       "...                                                  ...               \n",
       "15545                                               0.00               \n",
       "15568                                               0.01               \n",
       "15575                                               0.00               \n",
       "15591                                               1.36               \n",
       "15593                                               0.00               \n",
       "\n",
       "       Disponibilité de protéines en quantité (g/personne/jour)  \\\n",
       "7                                                  36.91          \n",
       "12                                                  0.00          \n",
       "32                                                  0.56          \n",
       "34                                                  0.08          \n",
       "40                                                  0.79          \n",
       "...                                                  ...          \n",
       "15545                                               0.00          \n",
       "15568                                               0.03          \n",
       "15575                                               0.01          \n",
       "15591                                              10.90          \n",
       "15593                                               0.00          \n",
       "\n",
       "       Disponibilité intérieure  Exportations - Quantité  \\\n",
       "7                     5992000.0                      0.0   \n",
       "12                          0.0                      0.0   \n",
       "32                     313000.0                      0.0   \n",
       "34                      13000.0                      0.0   \n",
       "40                     524000.0                      0.0   \n",
       "...                         ...                      ...   \n",
       "15545                       0.0                      0.0   \n",
       "15568                       0.0                      0.0   \n",
       "15575                    1000.0                      0.0   \n",
       "15591                   49000.0                      0.0   \n",
       "15593                       0.0                      0.0   \n",
       "\n",
       "       Importations - Quantité  Nourriture    Pertes  Production  Semences  \\\n",
       "7                    1173000.0   4895000.0  775000.0   5169000.0  322000.0   \n",
       "12                         0.0         0.0       0.0         0.0       0.0   \n",
       "32                      1000.0     76000.0   31000.0    312000.0    5000.0   \n",
       "34                         0.0     12000.0    1000.0     13000.0       0.0   \n",
       "40                     10000.0     89000.0   52000.0    514000.0   22000.0   \n",
       "...                        ...         ...       ...         ...       ...   \n",
       "15545                      0.0         0.0       0.0         0.0       0.0   \n",
       "15568                      0.0         0.0       0.0         0.0       0.0   \n",
       "15575                   1000.0         0.0       0.0         0.0       0.0   \n",
       "15591                  47000.0     36000.0    1000.0      3000.0       0.0   \n",
       "15593                      0.0         0.0       0.0         0.0       0.0   \n",
       "\n",
       "       Traitement  Variation de stock  \n",
       "7             0.0           -350000.0  \n",
       "12            0.0                 0.0  \n",
       "32            0.0                 0.0  \n",
       "34            0.0                 0.0  \n",
       "40            0.0                 0.0  \n",
       "...           ...                 ...  \n",
       "15545         0.0                 0.0  \n",
       "15568         0.0                 0.0  \n",
       "15575      1000.0                 0.0  \n",
       "15591         0.0                 0.0  \n",
       "15593         0.0                 0.0  \n",
       "\n",
       "[1497 rows x 18 columns]"
      ]
     },
     "execution_count": 156,
     "metadata": {},
     "output_type": "execute_result"
    }
   ],
   "source": [
    "#Création d'un dataframe avec les informations uniquement pour ces céréales\n",
    "cereales = [\n",
    "    'Blé',\n",
    "    'Céréales, Autres',\n",
    "    'Maïs',\n",
    "    'Millet',\n",
    "    'Orge',\n",
    "    'Riz (Eq Blanchi)',\n",
    "    'Avoine',\n",
    "    'Seigle',\n",
    "    'Sorgho'\n",
    "]\n",
    "dispo_cereales = dispo_alimentaire[dispo_alimentaire['Produit'].isin(cereales)]\n",
    "dispo_cereales"
   ]
  },
  {
   "cell_type": "code",
   "execution_count": 134,
   "id": "8365de95",
   "metadata": {},
   "outputs": [],
   "source": [
    "#Affichage de la proportion d'alimentation animale\n",
    "proportion_alimentation_animale = dispo_cereales['Aliments pour animaux'] / (dispo_cereales['Disponibilité intérieure']) * 100\n",
    "\n",
    "dispo_cereales.insert(5, 'Proportion Alimentation animale en %', proportion_alimentation_animale)\n"
   ]
  },
  {
   "cell_type": "code",
   "execution_count": 135,
   "id": "7d169fd8-188d-4e6b-a4d0-cba45f380b31",
   "metadata": {},
   "outputs": [
    {
     "name": "stdout",
     "output_type": "stream",
     "text": [
      "La proportion d'utilisation animale des céréales est de 36.291456706047654 %\n",
      "La proportion d'utilisation pour l'alimentation humaine des céréales est de 42.75074480712289 %\n"
     ]
    }
   ],
   "source": [
    "somme_utilisation_animale = dispo_cereales['Aliments pour animaux'].sum()\n",
    "somme_utilisation_humaine = dispo_cereales['Nourriture'].sum()\n",
    "somme_dispo_interieure = dispo_cereales['Disponibilité intérieure'].sum()\n",
    "Proportion_alimentation_animale = somme_utilisation_animale / ( somme_dispo_interieure ) * 100\n",
    "Proportion_alimentation_humaine = somme_utilisation_humaine / ( somme_dispo_interieure ) * 100\n",
    "print(f\"La proportion d'utilisation animale des céréales est de {Proportion_alimentation_animale} %\")\n",
    "print(f\"La proportion d'utilisation pour l'alimentation humaine des céréales est de {Proportion_alimentation_humaine} %\")"
   ]
  },
  {
   "cell_type": "markdown",
   "id": "a603be79",
   "metadata": {},
   "source": [
    "<div style=\"border: 1px solid RGB(0,150,250);\" >\n",
    "<h3 style=\"margin: auto; padding: 20px; color: RGB(0,150,250); \">3.6 - Pays avec la proportion de personnes sous-alimentée la plus forte en 2017</h3>\n",
    "</div>"
   ]
  },
  {
   "cell_type": "code",
   "execution_count": 157,
   "id": "1884c270",
   "metadata": {},
   "outputs": [
    {
     "ename": "ValueError",
     "evalue": "cannot insert Proportion de personnes en sous nutrition en %, already exists",
     "output_type": "error",
     "traceback": [
      "\u001b[1;31m---------------------------------------------------------------------------\u001b[0m",
      "\u001b[1;31mValueError\u001b[0m                                Traceback (most recent call last)",
      "\u001b[1;32m~\\AppData\\Local\\Temp\\ipykernel_17836\\2771641904.py\u001b[0m in \u001b[0;36m?\u001b[1;34m()\u001b[0m\n\u001b[0;32m      1\u001b[0m \u001b[1;31m#Création de la colonne proportion par pays\u001b[0m\u001b[1;33m\u001b[0m\u001b[1;33m\u001b[0m\u001b[0m\n\u001b[0;32m      2\u001b[0m \u001b[0mproportion_sous_nutrition_pays\u001b[0m\u001b[1;33m=\u001b[0m \u001b[0mpopulation_2017\u001b[0m\u001b[1;33m[\u001b[0m\u001b[1;34m'sous_nutrition'\u001b[0m\u001b[1;33m]\u001b[0m \u001b[1;33m/\u001b[0m \u001b[1;33m(\u001b[0m\u001b[0mpopulation_2017\u001b[0m\u001b[1;33m[\u001b[0m\u001b[1;34m'sous_nutrition'\u001b[0m\u001b[1;33m]\u001b[0m \u001b[1;33m+\u001b[0m \u001b[0mpopulation_2017\u001b[0m\u001b[1;33m[\u001b[0m\u001b[1;34m'Population'\u001b[0m\u001b[1;33m]\u001b[0m\u001b[1;33m)\u001b[0m \u001b[1;33m*\u001b[0m \u001b[1;36m100\u001b[0m\u001b[1;33m\u001b[0m\u001b[1;33m\u001b[0m\u001b[0m\n\u001b[0;32m      3\u001b[0m \u001b[1;33m\u001b[0m\u001b[0m\n\u001b[1;32m----> 4\u001b[1;33m \u001b[0mpopulation_2017\u001b[0m\u001b[1;33m.\u001b[0m\u001b[0minsert\u001b[0m\u001b[1;33m(\u001b[0m\u001b[1;36m4\u001b[0m\u001b[1;33m,\u001b[0m \u001b[1;34m'Proportion de personnes en sous nutrition en %'\u001b[0m\u001b[1;33m,\u001b[0m \u001b[0mproportion_sous_nutrition_pays\u001b[0m\u001b[1;33m)\u001b[0m\u001b[1;33m\u001b[0m\u001b[1;33m\u001b[0m\u001b[0m\n\u001b[0m\u001b[0;32m      5\u001b[0m \u001b[1;33m\u001b[0m\u001b[0m\n\u001b[0;32m      6\u001b[0m \u001b[0mpopulation_2017\u001b[0m\u001b[1;33m\u001b[0m\u001b[1;33m\u001b[0m\u001b[0m\n",
      "\u001b[1;32mC:\\ProgramData\\anaconda3\\Lib\\site-packages\\pandas\\core\\frame.py\u001b[0m in \u001b[0;36m?\u001b[1;34m(self, loc, column, value, allow_duplicates)\u001b[0m\n\u001b[0;32m   5154\u001b[0m                 \u001b[1;34m\"'self.flags.allows_duplicate_labels' is False.\"\u001b[0m\u001b[1;33m\u001b[0m\u001b[1;33m\u001b[0m\u001b[0m\n\u001b[0;32m   5155\u001b[0m             \u001b[1;33m)\u001b[0m\u001b[1;33m\u001b[0m\u001b[1;33m\u001b[0m\u001b[0m\n\u001b[0;32m   5156\u001b[0m         \u001b[1;32mif\u001b[0m \u001b[1;32mnot\u001b[0m \u001b[0mallow_duplicates\u001b[0m \u001b[1;32mand\u001b[0m \u001b[0mcolumn\u001b[0m \u001b[1;32min\u001b[0m \u001b[0mself\u001b[0m\u001b[1;33m.\u001b[0m\u001b[0mcolumns\u001b[0m\u001b[1;33m:\u001b[0m\u001b[1;33m\u001b[0m\u001b[1;33m\u001b[0m\u001b[0m\n\u001b[0;32m   5157\u001b[0m             \u001b[1;31m# Should this be a different kind of error??\u001b[0m\u001b[1;33m\u001b[0m\u001b[1;33m\u001b[0m\u001b[0m\n\u001b[1;32m-> 5158\u001b[1;33m             \u001b[1;32mraise\u001b[0m \u001b[0mValueError\u001b[0m\u001b[1;33m(\u001b[0m\u001b[1;33mf\"\u001b[0m\u001b[1;33mcannot insert \u001b[0m\u001b[1;33m{\u001b[0m\u001b[0mcolumn\u001b[0m\u001b[1;33m}\u001b[0m\u001b[1;33m, already exists\u001b[0m\u001b[1;33m\"\u001b[0m\u001b[1;33m)\u001b[0m\u001b[1;33m\u001b[0m\u001b[1;33m\u001b[0m\u001b[0m\n\u001b[0m\u001b[0;32m   5159\u001b[0m         \u001b[1;32mif\u001b[0m \u001b[1;32mnot\u001b[0m \u001b[0mis_integer\u001b[0m\u001b[1;33m(\u001b[0m\u001b[0mloc\u001b[0m\u001b[1;33m)\u001b[0m\u001b[1;33m:\u001b[0m\u001b[1;33m\u001b[0m\u001b[1;33m\u001b[0m\u001b[0m\n\u001b[0;32m   5160\u001b[0m             \u001b[1;32mraise\u001b[0m \u001b[0mTypeError\u001b[0m\u001b[1;33m(\u001b[0m\u001b[1;34m\"loc must be int\"\u001b[0m\u001b[1;33m)\u001b[0m\u001b[1;33m\u001b[0m\u001b[1;33m\u001b[0m\u001b[0m\n\u001b[0;32m   5161\u001b[0m         \u001b[1;31m# convert non stdlib ints to satisfy typing checks\u001b[0m\u001b[1;33m\u001b[0m\u001b[1;33m\u001b[0m\u001b[0m\n",
      "\u001b[1;31mValueError\u001b[0m: cannot insert Proportion de personnes en sous nutrition en %, already exists"
     ]
    }
   ],
   "source": [
    "#Création de la colonne proportion par pays\n",
    "proportion_sous_nutrition_pays= population_2017['sous_nutrition'] / (population_2017['sous_nutrition'] + population_2017['Population']) * 100\n",
    "\n",
    "population_2017.insert(4, 'Proportion de personnes en sous nutrition en %', proportion_sous_nutrition_pays)"
   ]
  },
  {
   "cell_type": "code",
   "execution_count": 158,
   "id": "7626fe37-3980-4e6e-801a-5e4bb3efce16",
   "metadata": {},
   "outputs": [
    {
     "name": "stdout",
     "output_type": "stream",
     "text": [
      "\n",
      "DataFrame trié par le plus fort taux de sous nutrition (décroissant) :\n",
      "                                           Zone Année  Population  \\\n",
      "78                                        Haïti  2017  10982366.0   \n",
      "157  République populaire démocratique de Corée  2017  25429825.0   \n",
      "108                                  Madagascar  2017  25570512.0   \n",
      "103                                     Libéria  2017   4702226.0   \n",
      "100                                     Lesotho  2017   2091534.0   \n",
      "183                                       Tchad  2017  15016753.0   \n",
      "161                                      Rwanda  2017  11980961.0   \n",
      "121                                  Mozambique  2017  28649018.0   \n",
      "186                                 Timor-Leste  2017   1243258.0   \n",
      "0                                   Afghanistan  2017  36296113.0   \n",
      "\n",
      "     sous_nutrition  Proportion de personnes en sous nutrition en %  \n",
      "78        5300000.0                                       32.550552  \n",
      "157      12000000.0                                       32.059995  \n",
      "108      10500000.0                                       29.109651  \n",
      "103       1800000.0                                       27.682827  \n",
      "100        800000.0                                       27.666975  \n",
      "183       5700000.0                                       27.513964  \n",
      "161       4200000.0                                       25.956431  \n",
      "121       9400000.0                                       24.704974  \n",
      "186        400000.0                                       24.341887  \n",
      "0        10500000.0                                       22.437761  \n"
     ]
    }
   ],
   "source": [
    "#affichage après trie des 10 pires pays\n",
    "population_2017_trie = population_2017.sort_values(by='Proportion de personnes en sous nutrition en %', ascending=False)\n",
    "print(\"\\nDataFrame trié par le plus fort taux de sous nutrition (décroissant) :\")\n",
    "print(population_2017_trie.head(10))"
   ]
  },
  {
   "cell_type": "markdown",
   "id": "ec26d653-8069-4ce8-84f8-c55ff8d5846f",
   "metadata": {
    "jp-MarkdownHeadingCollapsed": true
   },
   "source": []
  },
  {
   "cell_type": "markdown",
   "id": "4f610008",
   "metadata": {},
   "source": [
    "<div style=\"border: 1px solid RGB(0,150,250);\" >\n",
    "<h3 style=\"margin: auto; padding: 20px; color: RGB(0,150,250); \">3.7 - Pays qui ont le plus bénéficié d'aide alimentaire depuis 2013</h3>\n",
    "</div>"
   ]
  },
  {
   "cell_type": "code",
   "execution_count": 159,
   "id": "ff1b24a3",
   "metadata": {},
   "outputs": [
    {
     "data": {
      "text/html": [
       "<div>\n",
       "<style scoped>\n",
       "    .dataframe tbody tr th:only-of-type {\n",
       "        vertical-align: middle;\n",
       "    }\n",
       "\n",
       "    .dataframe tbody tr th {\n",
       "        vertical-align: top;\n",
       "    }\n",
       "\n",
       "    .dataframe thead th {\n",
       "        text-align: right;\n",
       "    }\n",
       "</style>\n",
       "<table border=\"1\" class=\"dataframe\">\n",
       "  <thead>\n",
       "    <tr style=\"text-align: right;\">\n",
       "      <th></th>\n",
       "      <th>Zone</th>\n",
       "      <th>Valeur en kg</th>\n",
       "    </tr>\n",
       "  </thead>\n",
       "  <tbody>\n",
       "    <tr>\n",
       "      <th>0</th>\n",
       "      <td>Afghanistan</td>\n",
       "      <td>185452000</td>\n",
       "    </tr>\n",
       "    <tr>\n",
       "      <th>1</th>\n",
       "      <td>Algérie</td>\n",
       "      <td>81114000</td>\n",
       "    </tr>\n",
       "    <tr>\n",
       "      <th>2</th>\n",
       "      <td>Angola</td>\n",
       "      <td>5014000</td>\n",
       "    </tr>\n",
       "    <tr>\n",
       "      <th>3</th>\n",
       "      <td>Bangladesh</td>\n",
       "      <td>348188000</td>\n",
       "    </tr>\n",
       "    <tr>\n",
       "      <th>4</th>\n",
       "      <td>Bhoutan</td>\n",
       "      <td>2666000</td>\n",
       "    </tr>\n",
       "    <tr>\n",
       "      <th>...</th>\n",
       "      <td>...</td>\n",
       "      <td>...</td>\n",
       "    </tr>\n",
       "    <tr>\n",
       "      <th>71</th>\n",
       "      <td>Zambie</td>\n",
       "      <td>3026000</td>\n",
       "    </tr>\n",
       "    <tr>\n",
       "      <th>72</th>\n",
       "      <td>Zimbabwe</td>\n",
       "      <td>62570000</td>\n",
       "    </tr>\n",
       "    <tr>\n",
       "      <th>73</th>\n",
       "      <td>Égypte</td>\n",
       "      <td>1122000</td>\n",
       "    </tr>\n",
       "    <tr>\n",
       "      <th>74</th>\n",
       "      <td>Équateur</td>\n",
       "      <td>1362000</td>\n",
       "    </tr>\n",
       "    <tr>\n",
       "      <th>75</th>\n",
       "      <td>Éthiopie</td>\n",
       "      <td>1381294000</td>\n",
       "    </tr>\n",
       "  </tbody>\n",
       "</table>\n",
       "<p>76 rows × 2 columns</p>\n",
       "</div>"
      ],
      "text/plain": [
       "           Zone  Valeur en kg\n",
       "0   Afghanistan     185452000\n",
       "1       Algérie      81114000\n",
       "2        Angola       5014000\n",
       "3    Bangladesh     348188000\n",
       "4       Bhoutan       2666000\n",
       "..          ...           ...\n",
       "71       Zambie       3026000\n",
       "72     Zimbabwe      62570000\n",
       "73       Égypte       1122000\n",
       "74     Équateur       1362000\n",
       "75     Éthiopie    1381294000\n",
       "\n",
       "[76 rows x 2 columns]"
      ]
     },
     "execution_count": 159,
     "metadata": {},
     "output_type": "execute_result"
    }
   ],
   "source": [
    "#calcul du total de l'aide alimentaire par pays\n",
    "aide_alimentaire_regroupe = aide_alimentaire.groupby('Zone')['Valeur en kg'].sum().reset_index()\n",
    "aide_alimentaire_regroupe"
   ]
  },
  {
   "cell_type": "code",
   "execution_count": 139,
   "id": "ee1ac6fb",
   "metadata": {},
   "outputs": [
    {
     "name": "stdout",
     "output_type": "stream",
     "text": [
      "\n",
      "10 pays qui ont bénéficié le plus de l'aide alimentaire :\n",
      "                                Zone  Valeur en kg\n",
      "50         République arabe syrienne    1858943000\n",
      "75                          Éthiopie    1381294000\n",
      "70                             Yémen    1206484000\n",
      "61                     Soudan du Sud     695248000\n",
      "60                            Soudan     669784000\n",
      "30                             Kenya     552836000\n",
      "3                         Bangladesh     348188000\n",
      "59                           Somalie     292678000\n",
      "53  République démocratique du Congo     288502000\n",
      "43                             Niger     276344000\n"
     ]
    }
   ],
   "source": [
    "#affichage après trie des 10 pays qui ont bénéficié le plus de l'aide alimentaire\n",
    "aide_alimentaire_trie = aide_alimentaire_regroupe.sort_values(by='Valeur en kg', ascending=False)\n",
    "print(\"\\n10 pays qui ont bénéficié le plus de l'aide alimentaire :\")\n",
    "print(aide_alimentaire_trie.head(10))"
   ]
  },
  {
   "cell_type": "markdown",
   "id": "a361ce61",
   "metadata": {},
   "source": [
    "<div style=\"border: 1px solid RGB(0,150,250);\" >\n",
    "<h3 style=\"margin: auto; padding: 20px; color: RGB(0,150,250); \">3.8 - Evolution des 5 pays qui ont le plus bénéficiés de l'aide alimentaire entre 2013 et 2016</h3>\n",
    "</div>"
   ]
  },
  {
   "cell_type": "code",
   "execution_count": 140,
   "id": "09d55114",
   "metadata": {},
   "outputs": [
    {
     "name": "stdout",
     "output_type": "stream",
     "text": [
      "          Zone  Année  Valeur en kg\n",
      "0  Afghanistan   2013     128238000\n",
      "1  Afghanistan   2014      57214000\n",
      "2      Algérie   2013      35234000\n",
      "3      Algérie   2014      18980000\n",
      "4      Algérie   2015      17424000\n"
     ]
    }
   ],
   "source": [
    "#Création d'un dataframe avec la zone, l'année et l'aide alimentaire puis groupby sur zone et année \n",
    "aide_alimentaire_filtered = aide_alimentaire[(aide_alimentaire['Année'] >= 2013) & (aide_alimentaire['Année'] <= 2016)]\n",
    "aide_alimentaire_grouped = aide_alimentaire_filtered.groupby(['Zone', 'Année'])['Valeur en kg'].sum().reset_index()\n",
    "print(aide_alimentaire_grouped.head())\n",
    "aide_alimentaire_grouped.to_excel(\"aide_alimentaire_grouped.xlsx\", index=False, sheet_name=\"Données\")"
   ]
  },
  {
   "cell_type": "code",
   "execution_count": 141,
   "id": "6bd577b0",
   "metadata": {},
   "outputs": [
    {
     "name": "stdout",
     "output_type": "stream",
     "text": [
      "['République arabe syrienne', 'Éthiopie', 'Yémen', 'Soudan du Sud', 'Soudan']\n"
     ]
    }
   ],
   "source": [
    "#Création d'une liste contenant les 5 pays qui ont le plus bénéficiées de l'aide alimentaire\n",
    "aide_alimentaire_trie = aide_alimentaire_grouped.sort_values(by='Valeur en kg', ascending=False)\n",
    "zones_liste = aide_alimentaire_trie['Zone'].unique()[:5].tolist()\n",
    "\n",
    "# Afficher la liste\n",
    "print(zones_liste)"
   ]
  },
  {
   "cell_type": "code",
   "execution_count": 142,
   "id": "41612dbd",
   "metadata": {},
   "outputs": [],
   "source": [
    "#On filtre sur le dataframe avec notre liste\n",
    "aide_alimentaire_grouped_filtre = aide_alimentaire_grouped[aide_alimentaire_grouped['Zone'].isin(zones_liste)]\n"
   ]
  },
  {
   "cell_type": "code",
   "execution_count": 143,
   "id": "5680e72d",
   "metadata": {},
   "outputs": [
    {
     "name": "stdout",
     "output_type": "stream",
     "text": [
      "                          Zone  Année  Valeur en kg\n",
      "157  République arabe syrienne   2013     563566000\n",
      "158  République arabe syrienne   2014     651870000\n",
      "159  République arabe syrienne   2015     524949000\n",
      "160  République arabe syrienne   2016     118558000\n",
      "189                     Soudan   2013     330230000\n",
      "190                     Soudan   2014     321904000\n",
      "191                     Soudan   2015      17650000\n",
      "192              Soudan du Sud   2013     196330000\n",
      "193              Soudan du Sud   2014     450610000\n",
      "194              Soudan du Sud   2015      48308000\n",
      "214                      Yémen   2013     264764000\n",
      "215                      Yémen   2014     103840000\n",
      "216                      Yémen   2015     372306000\n",
      "217                      Yémen   2016     465574000\n",
      "225                   Éthiopie   2013     591404000\n",
      "226                   Éthiopie   2014     586624000\n",
      "227                   Éthiopie   2015     203266000\n"
     ]
    }
   ],
   "source": [
    "# Affichage des pays avec l'aide alimentaire par année\n",
    "print(aide_alimentaire_grouped_filtre)\n",
    "aide_alimentaire_grouped_filtre.to_excel(\"aide_alimentaire_grouped_filtre.xlsx\", index=False, sheet_name=\"Données\")"
   ]
  },
  {
   "cell_type": "markdown",
   "id": "bd392dac",
   "metadata": {},
   "source": [
    "<div style=\"border: 1px solid RGB(0,150,250);\" >\n",
    "<h3 style=\"margin: auto; padding: 20px; color: RGB(0,150,250); \">3.9 - Pays avec le moins de disponibilité par habitant</h3>\n",
    "</div>"
   ]
  },
  {
   "cell_type": "code",
   "execution_count": 144,
   "id": "fb3a378b",
   "metadata": {},
   "outputs": [],
   "source": [
    "#Calcul de la disponibilité en kcal par personne par jour par pays\n",
    "dispo_kcal_grouped = dispo_alimentaire.groupby(['Zone'])['Disponibilité alimentaire (Kcal/personne/jour)'].sum().reset_index()"
   ]
  },
  {
   "cell_type": "code",
   "execution_count": 145,
   "id": "70c0f689",
   "metadata": {},
   "outputs": [
    {
     "name": "stdout",
     "output_type": "stream",
     "text": [
      "                                           Zone  \\\n",
      "128                   République centrafricaine   \n",
      "166                                      Zambie   \n",
      "91                                   Madagascar   \n",
      "0                                   Afghanistan   \n",
      "65                                        Haïti   \n",
      "133  République populaire démocratique de Corée   \n",
      "151                                       Tchad   \n",
      "167                                    Zimbabwe   \n",
      "114                                     Ouganda   \n",
      "154                                 Timor-Leste   \n",
      "\n",
      "     Disponibilité alimentaire (Kcal/personne/jour)  \n",
      "128                                          1879.0  \n",
      "166                                          1924.0  \n",
      "91                                           2056.0  \n",
      "0                                            2087.0  \n",
      "65                                           2089.0  \n",
      "133                                          2093.0  \n",
      "151                                          2109.0  \n",
      "167                                          2113.0  \n",
      "114                                          2126.0  \n",
      "154                                          2129.0  \n"
     ]
    }
   ],
   "source": [
    "#Affichage des 10 pays qui ont le moins de dispo alimentaire par personne \n",
    "dispo_kcal_trie_croissant = dispo_kcal_grouped.sort_values(by='Disponibilité alimentaire (Kcal/personne/jour)', ascending=True)\n",
    "print(dispo_kcal_trie_croissant.head(10))"
   ]
  },
  {
   "cell_type": "markdown",
   "id": "2553ed12",
   "metadata": {},
   "source": [
    "<div style=\"border: 1px solid RGB(0,150,250);\" >\n",
    "<h3 style=\"margin: auto; padding: 20px; color: RGB(0,150,250); \">3.10 - Pays avec le plus de disponibilité par habitant</h3>\n",
    "</div>"
   ]
  },
  {
   "cell_type": "code",
   "execution_count": 146,
   "id": "63e835c6",
   "metadata": {},
   "outputs": [
    {
     "name": "stdout",
     "output_type": "stream",
     "text": [
      "                      Zone  Disponibilité alimentaire (Kcal/personne/jour)\n",
      "11                Autriche                                          3770.0\n",
      "16                Belgique                                          3737.0\n",
      "159                Turquie                                          3708.0\n",
      "171  États-Unis d'Amérique                                          3682.0\n",
      "74                  Israël                                          3610.0\n",
      "72                 Irlande                                          3602.0\n",
      "75                  Italie                                          3578.0\n",
      "89              Luxembourg                                          3540.0\n",
      "168                 Égypte                                          3518.0\n",
      "4                Allemagne                                          3503.0\n"
     ]
    }
   ],
   "source": [
    "#Affichage des 10 pays qui ont le plus de dispo alimentaire par personne \n",
    "dispo_kcal_trie_decroissant = dispo_kcal_grouped.sort_values(by='Disponibilité alimentaire (Kcal/personne/jour)', ascending=False)\n",
    "print(dispo_kcal_trie_decroissant.head(10))\n",
    "dispo_kcal_trie_decroissant.to_csv(\"top_dispo.csv\", index=False)"
   ]
  },
  {
   "cell_type": "markdown",
   "id": "58d7248b",
   "metadata": {},
   "source": [
    "<div style=\"border: 1px solid RGB(0,150,250);\" >\n",
    "<h3 style=\"margin: auto; padding: 20px; color: RGB(0,150,250); \">3.11 - Exemple de la Thaïlande pour le Manioc</h3>\n",
    "</div>"
   ]
  },
  {
   "cell_type": "code",
   "execution_count": 160,
   "id": "ec9ca912",
   "metadata": {},
   "outputs": [
    {
     "data": {
      "text/html": [
       "<div>\n",
       "<style scoped>\n",
       "    .dataframe tbody tr th:only-of-type {\n",
       "        vertical-align: middle;\n",
       "    }\n",
       "\n",
       "    .dataframe tbody tr th {\n",
       "        vertical-align: top;\n",
       "    }\n",
       "\n",
       "    .dataframe thead th {\n",
       "        text-align: right;\n",
       "    }\n",
       "</style>\n",
       "<table border=\"1\" class=\"dataframe\">\n",
       "  <thead>\n",
       "    <tr style=\"text-align: right;\">\n",
       "      <th></th>\n",
       "      <th>Zone</th>\n",
       "      <th>Produit</th>\n",
       "      <th>Origine</th>\n",
       "      <th>Aliments pour animaux</th>\n",
       "      <th>Autres Utilisations</th>\n",
       "      <th>Disponibilité alimentaire (Kcal/personne/jour)</th>\n",
       "      <th>Disponibilité alimentaire en quantité (kg/personne/an)</th>\n",
       "      <th>Disponibilité de matière grasse en quantité (g/personne/jour)</th>\n",
       "      <th>Disponibilité de protéines en quantité (g/personne/jour)</th>\n",
       "      <th>Disponibilité intérieure</th>\n",
       "      <th>Exportations - Quantité</th>\n",
       "      <th>Importations - Quantité</th>\n",
       "      <th>Nourriture</th>\n",
       "      <th>Pertes</th>\n",
       "      <th>Production</th>\n",
       "      <th>Semences</th>\n",
       "      <th>Traitement</th>\n",
       "      <th>Variation de stock</th>\n",
       "    </tr>\n",
       "  </thead>\n",
       "  <tbody>\n",
       "    <tr>\n",
       "      <th>13759</th>\n",
       "      <td>Thaïlande</td>\n",
       "      <td>Abats Comestible</td>\n",
       "      <td>animale</td>\n",
       "      <td>0.0</td>\n",
       "      <td>0.0</td>\n",
       "      <td>3.0</td>\n",
       "      <td>1.11</td>\n",
       "      <td>0.09</td>\n",
       "      <td>0.56</td>\n",
       "      <td>74000.0</td>\n",
       "      <td>5000.0</td>\n",
       "      <td>33000.0</td>\n",
       "      <td>75000.0</td>\n",
       "      <td>0.0</td>\n",
       "      <td>45000.0</td>\n",
       "      <td>0.0</td>\n",
       "      <td>0.0</td>\n",
       "      <td>0.0</td>\n",
       "    </tr>\n",
       "    <tr>\n",
       "      <th>13760</th>\n",
       "      <td>Thaïlande</td>\n",
       "      <td>Agrumes, Autres</td>\n",
       "      <td>vegetale</td>\n",
       "      <td>0.0</td>\n",
       "      <td>0.0</td>\n",
       "      <td>0.0</td>\n",
       "      <td>0.09</td>\n",
       "      <td>0.00</td>\n",
       "      <td>0.00</td>\n",
       "      <td>8000.0</td>\n",
       "      <td>6000.0</td>\n",
       "      <td>2000.0</td>\n",
       "      <td>6000.0</td>\n",
       "      <td>0.0</td>\n",
       "      <td>12000.0</td>\n",
       "      <td>0.0</td>\n",
       "      <td>2000.0</td>\n",
       "      <td>0.0</td>\n",
       "    </tr>\n",
       "    <tr>\n",
       "      <th>13761</th>\n",
       "      <td>Thaïlande</td>\n",
       "      <td>Alcool, non Comestible</td>\n",
       "      <td>vegetale</td>\n",
       "      <td>0.0</td>\n",
       "      <td>358000.0</td>\n",
       "      <td>0.0</td>\n",
       "      <td>0.00</td>\n",
       "      <td>0.00</td>\n",
       "      <td>0.00</td>\n",
       "      <td>358000.0</td>\n",
       "      <td>110000.0</td>\n",
       "      <td>21000.0</td>\n",
       "      <td>0.0</td>\n",
       "      <td>0.0</td>\n",
       "      <td>447000.0</td>\n",
       "      <td>0.0</td>\n",
       "      <td>0.0</td>\n",
       "      <td>0.0</td>\n",
       "    </tr>\n",
       "    <tr>\n",
       "      <th>13762</th>\n",
       "      <td>Thaïlande</td>\n",
       "      <td>Aliments pour enfants</td>\n",
       "      <td>vegetale</td>\n",
       "      <td>0.0</td>\n",
       "      <td>0.0</td>\n",
       "      <td>2.0</td>\n",
       "      <td>0.18</td>\n",
       "      <td>0.01</td>\n",
       "      <td>0.08</td>\n",
       "      <td>12000.0</td>\n",
       "      <td>7000.0</td>\n",
       "      <td>19000.0</td>\n",
       "      <td>12000.0</td>\n",
       "      <td>0.0</td>\n",
       "      <td>0.0</td>\n",
       "      <td>0.0</td>\n",
       "      <td>0.0</td>\n",
       "      <td>0.0</td>\n",
       "    </tr>\n",
       "    <tr>\n",
       "      <th>13763</th>\n",
       "      <td>Thaïlande</td>\n",
       "      <td>Ananas</td>\n",
       "      <td>vegetale</td>\n",
       "      <td>0.0</td>\n",
       "      <td>0.0</td>\n",
       "      <td>10.0</td>\n",
       "      <td>10.02</td>\n",
       "      <td>0.04</td>\n",
       "      <td>0.08</td>\n",
       "      <td>782000.0</td>\n",
       "      <td>1449000.0</td>\n",
       "      <td>9000.0</td>\n",
       "      <td>671000.0</td>\n",
       "      <td>110000.0</td>\n",
       "      <td>2209000.0</td>\n",
       "      <td>0.0</td>\n",
       "      <td>0.0</td>\n",
       "      <td>13000.0</td>\n",
       "    </tr>\n",
       "    <tr>\n",
       "      <th>...</th>\n",
       "      <td>...</td>\n",
       "      <td>...</td>\n",
       "      <td>...</td>\n",
       "      <td>...</td>\n",
       "      <td>...</td>\n",
       "      <td>...</td>\n",
       "      <td>...</td>\n",
       "      <td>...</td>\n",
       "      <td>...</td>\n",
       "      <td>...</td>\n",
       "      <td>...</td>\n",
       "      <td>...</td>\n",
       "      <td>...</td>\n",
       "      <td>...</td>\n",
       "      <td>...</td>\n",
       "      <td>...</td>\n",
       "      <td>...</td>\n",
       "      <td>...</td>\n",
       "    </tr>\n",
       "    <tr>\n",
       "      <th>13849</th>\n",
       "      <td>Thaïlande</td>\n",
       "      <td>Viande de Suides</td>\n",
       "      <td>animale</td>\n",
       "      <td>0.0</td>\n",
       "      <td>0.0</td>\n",
       "      <td>124.0</td>\n",
       "      <td>13.00</td>\n",
       "      <td>11.83</td>\n",
       "      <td>3.92</td>\n",
       "      <td>871000.0</td>\n",
       "      <td>22000.0</td>\n",
       "      <td>1000.0</td>\n",
       "      <td>871000.0</td>\n",
       "      <td>0.0</td>\n",
       "      <td>891000.0</td>\n",
       "      <td>0.0</td>\n",
       "      <td>0.0</td>\n",
       "      <td>0.0</td>\n",
       "    </tr>\n",
       "    <tr>\n",
       "      <th>13850</th>\n",
       "      <td>Thaïlande</td>\n",
       "      <td>Viande de Volailles</td>\n",
       "      <td>animale</td>\n",
       "      <td>0.0</td>\n",
       "      <td>0.0</td>\n",
       "      <td>52.0</td>\n",
       "      <td>13.69</td>\n",
       "      <td>3.62</td>\n",
       "      <td>4.49</td>\n",
       "      <td>945000.0</td>\n",
       "      <td>536000.0</td>\n",
       "      <td>11000.0</td>\n",
       "      <td>917000.0</td>\n",
       "      <td>28000.0</td>\n",
       "      <td>1470000.0</td>\n",
       "      <td>0.0</td>\n",
       "      <td>0.0</td>\n",
       "      <td>0.0</td>\n",
       "    </tr>\n",
       "    <tr>\n",
       "      <th>13851</th>\n",
       "      <td>Thaïlande</td>\n",
       "      <td>Viande, Autre</td>\n",
       "      <td>animale</td>\n",
       "      <td>0.0</td>\n",
       "      <td>0.0</td>\n",
       "      <td>0.0</td>\n",
       "      <td>0.03</td>\n",
       "      <td>0.01</td>\n",
       "      <td>0.02</td>\n",
       "      <td>-92000.0</td>\n",
       "      <td>96000.0</td>\n",
       "      <td>4000.0</td>\n",
       "      <td>2000.0</td>\n",
       "      <td>0.0</td>\n",
       "      <td>0.0</td>\n",
       "      <td>0.0</td>\n",
       "      <td>0.0</td>\n",
       "      <td>0.0</td>\n",
       "    </tr>\n",
       "    <tr>\n",
       "      <th>13852</th>\n",
       "      <td>Thaïlande</td>\n",
       "      <td>Vin</td>\n",
       "      <td>vegetale</td>\n",
       "      <td>0.0</td>\n",
       "      <td>0.0</td>\n",
       "      <td>0.0</td>\n",
       "      <td>0.12</td>\n",
       "      <td>0.00</td>\n",
       "      <td>0.00</td>\n",
       "      <td>8000.0</td>\n",
       "      <td>8000.0</td>\n",
       "      <td>16000.0</td>\n",
       "      <td>8000.0</td>\n",
       "      <td>0.0</td>\n",
       "      <td>0.0</td>\n",
       "      <td>0.0</td>\n",
       "      <td>0.0</td>\n",
       "      <td>0.0</td>\n",
       "    </tr>\n",
       "    <tr>\n",
       "      <th>13853</th>\n",
       "      <td>Thaïlande</td>\n",
       "      <td>Épices, Autres</td>\n",
       "      <td>vegetale</td>\n",
       "      <td>0.0</td>\n",
       "      <td>0.0</td>\n",
       "      <td>16.0</td>\n",
       "      <td>1.70</td>\n",
       "      <td>0.30</td>\n",
       "      <td>0.43</td>\n",
       "      <td>114000.0</td>\n",
       "      <td>42000.0</td>\n",
       "      <td>13000.0</td>\n",
       "      <td>114000.0</td>\n",
       "      <td>0.0</td>\n",
       "      <td>143000.0</td>\n",
       "      <td>0.0</td>\n",
       "      <td>0.0</td>\n",
       "      <td>0.0</td>\n",
       "    </tr>\n",
       "  </tbody>\n",
       "</table>\n",
       "<p>95 rows × 18 columns</p>\n",
       "</div>"
      ],
      "text/plain": [
       "            Zone                 Produit   Origine  Aliments pour animaux  \\\n",
       "13759  Thaïlande        Abats Comestible   animale                    0.0   \n",
       "13760  Thaïlande         Agrumes, Autres  vegetale                    0.0   \n",
       "13761  Thaïlande  Alcool, non Comestible  vegetale                    0.0   \n",
       "13762  Thaïlande   Aliments pour enfants  vegetale                    0.0   \n",
       "13763  Thaïlande                  Ananas  vegetale                    0.0   \n",
       "...          ...                     ...       ...                    ...   \n",
       "13849  Thaïlande        Viande de Suides   animale                    0.0   \n",
       "13850  Thaïlande     Viande de Volailles   animale                    0.0   \n",
       "13851  Thaïlande           Viande, Autre   animale                    0.0   \n",
       "13852  Thaïlande                     Vin  vegetale                    0.0   \n",
       "13853  Thaïlande          Épices, Autres  vegetale                    0.0   \n",
       "\n",
       "       Autres Utilisations  Disponibilité alimentaire (Kcal/personne/jour)  \\\n",
       "13759                  0.0                                             3.0   \n",
       "13760                  0.0                                             0.0   \n",
       "13761             358000.0                                             0.0   \n",
       "13762                  0.0                                             2.0   \n",
       "13763                  0.0                                            10.0   \n",
       "...                    ...                                             ...   \n",
       "13849                  0.0                                           124.0   \n",
       "13850                  0.0                                            52.0   \n",
       "13851                  0.0                                             0.0   \n",
       "13852                  0.0                                             0.0   \n",
       "13853                  0.0                                            16.0   \n",
       "\n",
       "       Disponibilité alimentaire en quantité (kg/personne/an)  \\\n",
       "13759                                               1.11        \n",
       "13760                                               0.09        \n",
       "13761                                               0.00        \n",
       "13762                                               0.18        \n",
       "13763                                              10.02        \n",
       "...                                                  ...        \n",
       "13849                                              13.00        \n",
       "13850                                              13.69        \n",
       "13851                                               0.03        \n",
       "13852                                               0.12        \n",
       "13853                                               1.70        \n",
       "\n",
       "       Disponibilité de matière grasse en quantité (g/personne/jour)  \\\n",
       "13759                                               0.09               \n",
       "13760                                               0.00               \n",
       "13761                                               0.00               \n",
       "13762                                               0.01               \n",
       "13763                                               0.04               \n",
       "...                                                  ...               \n",
       "13849                                              11.83               \n",
       "13850                                               3.62               \n",
       "13851                                               0.01               \n",
       "13852                                               0.00               \n",
       "13853                                               0.30               \n",
       "\n",
       "       Disponibilité de protéines en quantité (g/personne/jour)  \\\n",
       "13759                                               0.56          \n",
       "13760                                               0.00          \n",
       "13761                                               0.00          \n",
       "13762                                               0.08          \n",
       "13763                                               0.08          \n",
       "...                                                  ...          \n",
       "13849                                               3.92          \n",
       "13850                                               4.49          \n",
       "13851                                               0.02          \n",
       "13852                                               0.00          \n",
       "13853                                               0.43          \n",
       "\n",
       "       Disponibilité intérieure  Exportations - Quantité  \\\n",
       "13759                   74000.0                   5000.0   \n",
       "13760                    8000.0                   6000.0   \n",
       "13761                  358000.0                 110000.0   \n",
       "13762                   12000.0                   7000.0   \n",
       "13763                  782000.0                1449000.0   \n",
       "...                         ...                      ...   \n",
       "13849                  871000.0                  22000.0   \n",
       "13850                  945000.0                 536000.0   \n",
       "13851                  -92000.0                  96000.0   \n",
       "13852                    8000.0                   8000.0   \n",
       "13853                  114000.0                  42000.0   \n",
       "\n",
       "       Importations - Quantité  Nourriture    Pertes  Production  Semences  \\\n",
       "13759                  33000.0     75000.0       0.0     45000.0       0.0   \n",
       "13760                   2000.0      6000.0       0.0     12000.0       0.0   \n",
       "13761                  21000.0         0.0       0.0    447000.0       0.0   \n",
       "13762                  19000.0     12000.0       0.0         0.0       0.0   \n",
       "13763                   9000.0    671000.0  110000.0   2209000.0       0.0   \n",
       "...                        ...         ...       ...         ...       ...   \n",
       "13849                   1000.0    871000.0       0.0    891000.0       0.0   \n",
       "13850                  11000.0    917000.0   28000.0   1470000.0       0.0   \n",
       "13851                   4000.0      2000.0       0.0         0.0       0.0   \n",
       "13852                  16000.0      8000.0       0.0         0.0       0.0   \n",
       "13853                  13000.0    114000.0       0.0    143000.0       0.0   \n",
       "\n",
       "       Traitement  Variation de stock  \n",
       "13759         0.0                 0.0  \n",
       "13760      2000.0                 0.0  \n",
       "13761         0.0                 0.0  \n",
       "13762         0.0                 0.0  \n",
       "13763         0.0             13000.0  \n",
       "...           ...                 ...  \n",
       "13849         0.0                 0.0  \n",
       "13850         0.0                 0.0  \n",
       "13851         0.0                 0.0  \n",
       "13852         0.0                 0.0  \n",
       "13853         0.0                 0.0  \n",
       "\n",
       "[95 rows x 18 columns]"
      ]
     },
     "execution_count": 160,
     "metadata": {},
     "output_type": "execute_result"
    }
   ],
   "source": [
    "#création d'un dataframe avec uniquement la Thaïlande \n",
    "df_thailande = dispo_alimentaire[(dispo_alimentaire['Zone'] == 'Thaïlande')]\n",
    "df_thailande_manioc = dispo_alimentaire[(dispo_alimentaire['Zone'] == 'Thaïlande') & (dispo_alimentaire['Produit'] == 'Manioc')]\n",
    "df_thailande"
   ]
  },
  {
   "cell_type": "code",
   "execution_count": 148,
   "id": "85693912",
   "metadata": {},
   "outputs": [
    {
     "name": "stdout",
     "output_type": "stream",
     "text": [
      "La Thailande compte 6200000.0 personnes en sous nutrition\n"
     ]
    }
   ],
   "source": [
    "#Calcul de la sous nutrition en Thaïlande\n",
    "sous_nutrition_thailande = sous_nutrition[(sous_nutrition['Zone'] == 'Thaïlande')]\n",
    "\n",
    "somme_thailande = sous_nutrition_thailande['sous_nutrition'].sum()\n",
    "print(f\"La Thailande compte {somme_thailande} personnes en sous nutrition\")"
   ]
  },
  {
   "cell_type": "code",
   "execution_count": 149,
   "id": "f19cd96e",
   "metadata": {},
   "outputs": [
    {
     "name": "stdout",
     "output_type": "stream",
     "text": [
      "La proportion de la production de manioc exportée de la Thailande s'élève à 83.41272991928014 %\n",
      "La proportion de personnes en sous nutrition en Thailande est de 8.22174197229777 % \n",
      "La disponibilité intérieure en Thailande est de 586.2299999999999 kg par an et par habitant \n",
      "La disponibilité intérieure en Thailande est de 586.2299999999999 kcal par personne et par jour \n"
     ]
    }
   ],
   "source": [
    "# On calcule la proportion exportée en fonction de la proportion\n",
    "production_totale_manioc = df_thailande_manioc['Production'].iloc[0]\n",
    "production_exportee_thailande = df_thailande_manioc['Exportations - Quantité'].sum()\n",
    "production_importee_thailande = df_thailande_manioc['Importations - Quantité'].sum()\n",
    "proportion_exportee_thailande = production_exportee_thailande / production_totale_manioc * 100\n",
    "print(f\"La proportion de la production de manioc exportée de la Thailande s'élève à {proportion_exportee_thailande} %\")\n",
    "\n",
    "population_thailande = population_2017[population_2017['Zone'] == 'Thaïlande']\n",
    "proportion_sous_nutrition_thailande = population_thailande['Proportion de personnes en sous nutrition en %'].values[0]\n",
    "print(f\"La proportion de personnes en sous nutrition en Thailande est de {proportion_sous_nutrition_thailande} % \")\n",
    "\n",
    "dispo_par_habitant_thailande = df_thailande['Disponibilité alimentaire en quantité (kg/personne/an)'].sum()\n",
    "print(f\"La disponibilité intérieure en Thailande est de {dispo_par_habitant_thailande} kg par an et par habitant \")\n",
    "print(f\"La disponibilité intérieure en Thailande est de {dispo_par_habitant_thailande} kcal par personne et par jour \")\n",
    "\n"
   ]
  },
  {
   "cell_type": "markdown",
   "id": "7de4e914",
   "metadata": {},
   "source": [
    "<div style=\"background-color: RGB(0,150,250);\" >\n",
    "<h2 style=\"margin: auto; padding: 20px; color:#fff; \">Etape 6 - Analyse complémentaires</h2>\n",
    "</div>"
   ]
  },
  {
   "cell_type": "code",
   "execution_count": 150,
   "id": "e42062e9",
   "metadata": {},
   "outputs": [],
   "source": [
    "#Rajouter en dessous toutes les analyses complémtaires suite à la demande de mélanie :\n",
    "#\"et toutes les infos que tu trouverais utiles pour mettre en relief les pays qui semblent être \n",
    "#le plus en difficulté au niveau alimentaire\"\n"
   ]
  },
  {
   "cell_type": "code",
   "execution_count": 151,
   "id": "ccb151f0-fd9c-41e8-a49c-1a90fcfa6792",
   "metadata": {},
   "outputs": [
    {
     "name": "stdout",
     "output_type": "stream",
     "text": [
      "\n",
      "DataFrame trié par le plus faible taux de sous nutrition (croissant) :\n",
      "                              Zone Année  Population  sous_nutrition  \\\n",
      "101                       Lettonie  2017   1951097.0             0.0   \n",
      "113                          Malte  2017    437933.0             0.0   \n",
      "115                        Maurice  2017   1264499.0             0.0   \n",
      "118  Micronésie (États fédérés de)  2017    111459.0             0.0   \n",
      "120                     Monténégro  2017    627563.0             0.0   \n",
      "124                          Nauru  2017     10573.0             0.0   \n",
      "127                          Niger  2017  21602382.0             0.0   \n",
      "129                          Nioué  2017      1609.0             0.0   \n",
      "130                        Norvège  2017   5296326.0             0.0   \n",
      "131             Nouvelle-Calédonie  2017    277150.0             0.0   \n",
      "\n",
      "     Proportion de personnes en sous nutrition en %  \n",
      "101                                             0.0  \n",
      "113                                             0.0  \n",
      "115                                             0.0  \n",
      "118                                             0.0  \n",
      "120                                             0.0  \n",
      "124                                             0.0  \n",
      "127                                             0.0  \n",
      "129                                             0.0  \n",
      "130                                             0.0  \n",
      "131                                             0.0  \n"
     ]
    }
   ],
   "source": [
    "#Analyse des pays possédant le moins de sous_nutrition en proportion avec la population nationale \n",
    "\n",
    "population_2017_trie_croissant = population_2017.sort_values(by='Proportion de personnes en sous nutrition en %', ascending=True)\n",
    "print(\"\\nDataFrame trié par le plus faible taux de sous nutrition (croissant) :\")\n",
    "print(population_2017_trie_croissant.head(10))"
   ]
  },
  {
   "cell_type": "code",
   "execution_count": 152,
   "id": "17fc10b2-04da-45ec-9f1b-13c371b48e86",
   "metadata": {},
   "outputs": [
    {
     "name": "stdout",
     "output_type": "stream",
     "text": [
      "          Zone                 Produit   Origine  Aliments pour animaux  \\\n",
      "7703  Lettonie        Abats Comestible   animale                    0.0   \n",
      "7704  Lettonie         Agrumes, Autres  vegetale                    0.0   \n",
      "7705  Lettonie  Alcool, non Comestible  vegetale                    0.0   \n",
      "7706  Lettonie   Aliments pour enfants  vegetale                    0.0   \n",
      "7707  Lettonie                  Ananas  vegetale                    0.0   \n",
      "...        ...                     ...       ...                    ...   \n",
      "7791  Lettonie        Viande de Suides   animale                    0.0   \n",
      "7792  Lettonie     Viande de Volailles   animale                    0.0   \n",
      "7793  Lettonie           Viande, Autre   animale                    0.0   \n",
      "7794  Lettonie                     Vin  vegetale                    0.0   \n",
      "7795  Lettonie          Épices, Autres  vegetale                    0.0   \n",
      "\n",
      "      Autres Utilisations  Disponibilité alimentaire (Kcal/personne/jour)  \\\n",
      "7703                  0.0                                            21.0   \n",
      "7704                  0.0                                             0.0   \n",
      "7705              10000.0                                             0.0   \n",
      "7706                  0.0                                             3.0   \n",
      "7707                  0.0                                             2.0   \n",
      "...                   ...                                             ...   \n",
      "7791                  0.0                                           170.0   \n",
      "7792                  0.0                                            71.0   \n",
      "7793                  0.0                                             1.0   \n",
      "7794                  0.0                                             7.0   \n",
      "7795                  0.0                                             3.0   \n",
      "\n",
      "      Disponibilité alimentaire en quantité (kg/personne/an)  \\\n",
      "7703                                               6.21        \n",
      "7704                                               0.45        \n",
      "7705                                               0.00        \n",
      "7706                                               0.34        \n",
      "7707                                               1.62        \n",
      "...                                                 ...        \n",
      "7791                                              34.96        \n",
      "7792                                              20.53        \n",
      "7793                                               0.16        \n",
      "7794                                               3.25        \n",
      "7795                                               0.34        \n",
      "\n",
      "      Disponibilité de matière grasse en quantité (g/personne/jour)  \\\n",
      "7703                                               0.57               \n",
      "7704                                               0.00               \n",
      "7705                                               0.00               \n",
      "7706                                               0.03               \n",
      "7707                                               0.01               \n",
      "...                                                 ...               \n",
      "7791                                              14.41               \n",
      "7792                                               4.40               \n",
      "7793                                               0.03               \n",
      "7794                                               0.00               \n",
      "7795                                               0.13               \n",
      "\n",
      "      Disponibilité de protéines en quantité (g/personne/jour)  \\\n",
      "7703                                               3.24          \n",
      "7704                                               0.00          \n",
      "7705                                               0.00          \n",
      "7706                                               0.14          \n",
      "7707                                               0.01          \n",
      "...                                                 ...          \n",
      "7791                                               9.19          \n",
      "7792                                               7.21          \n",
      "7793                                               0.08          \n",
      "7794                                               0.00          \n",
      "7795                                               0.10          \n",
      "\n",
      "      Disponibilité intérieure  Exportations - Quantité  \\\n",
      "7703                   13000.0                   3000.0   \n",
      "7704                    1000.0                   1000.0   \n",
      "7705                   10000.0                   6000.0   \n",
      "7706                    1000.0                   1000.0   \n",
      "7707                    3000.0                   1000.0   \n",
      "...                        ...                      ...   \n",
      "7791                   72000.0                  18000.0   \n",
      "7792                   42000.0                  13000.0   \n",
      "7793                       0.0                   1000.0   \n",
      "7794                    7000.0                  46000.0   \n",
      "7795                    1000.0                   1000.0   \n",
      "\n",
      "      Importations - Quantité  Nourriture  Pertes  Production  Semences  \\\n",
      "7703                   9000.0     13000.0     0.0      7000.0       0.0   \n",
      "7704                   1000.0      1000.0     0.0         0.0       0.0   \n",
      "7705                  16000.0         0.0     0.0         0.0       0.0   \n",
      "7706                   1000.0      1000.0     0.0         0.0       0.0   \n",
      "7707                   4000.0      3000.0     0.0         0.0       0.0   \n",
      "...                       ...         ...     ...         ...       ...   \n",
      "7791                  55000.0     72000.0  1000.0     36000.0       0.0   \n",
      "7792                  29000.0     42000.0     0.0     27000.0       0.0   \n",
      "7793                      0.0         0.0     0.0         0.0       0.0   \n",
      "7794                  51000.0      7000.0     0.0      2000.0       0.0   \n",
      "7795                   1000.0      1000.0     0.0         0.0       0.0   \n",
      "\n",
      "      Traitement  Variation de stock  \n",
      "7703         0.0                 0.0  \n",
      "7704         0.0                 0.0  \n",
      "7705         0.0                 0.0  \n",
      "7706         0.0                 0.0  \n",
      "7707         0.0                 0.0  \n",
      "...          ...                 ...  \n",
      "7791         0.0                 0.0  \n",
      "7792         0.0                 0.0  \n",
      "7793         0.0                 0.0  \n",
      "7794         0.0                 0.0  \n",
      "7795         0.0                 0.0  \n",
      "\n",
      "[93 rows x 18 columns]\n",
      "Disponibilité en protéines en Lettonie : 91.33999999999999 g/personne/jour\n",
      "Disponibilité en matières grasses en Lettonie : 119.43 g/personne/jour\n",
      "Disponibilité alimentaire en Lettonie : 3172.0 Kcal/personne/jour \n"
     ]
    }
   ],
   "source": [
    "#Analysons désormais les proportions exportées en fonction des disponibilités intérieures pour La Lettonie qui semble avoir de bons résultats\n",
    "dispo_lettonie = dispo_alimentaire[dispo_alimentaire['Zone']=='Lettonie']\n",
    "print(dispo_lettonie)\n",
    "\n",
    "dispo_proteines_lettonie = dispo_lettonie['Disponibilité de protéines en quantité (g/personne/jour)'].sum()\n",
    "dispo_matieres_grasses_lettonie= dispo_lettonie['Disponibilité de matière grasse en quantité (g/personne/jour)'].sum()\n",
    "dispo_alimentaire_lettonie = dispo_lettonie['Disponibilité alimentaire (Kcal/personne/jour)'].sum()\n",
    "\n",
    "print(f\"Disponibilité en protéines en Lettonie : {dispo_proteines_lettonie} g/personne/jour\")\n",
    "print(f\"Disponibilité en matières grasses en Lettonie : {dispo_matieres_grasses_lettonie} g/personne/jour\")\n",
    "print(f\"Disponibilité alimentaire en Lettonie : {dispo_alimentaire_lettonie} Kcal/personne/jour \")\n",
    "# La Lettonie semble bien équilibrer ses besoins alimentaires en combinant la production locale et les importations, notamment pour les produits animaux, qui fournissent des apports caloriques et nutritionnels importants. Cependant, pour de nombreux produits végétaux, elle dépend fortement des importations, ce qui pourrait la rendre vulnérable aux fluctuations internationales des prix ou à des interruptions de la chaîne d'approvisionnement."
   ]
  },
  {
   "cell_type": "code",
   "execution_count": 162,
   "id": "039cf15e-f460-431e-9a49-6e67a2c9220d",
   "metadata": {},
   "outputs": [
    {
     "name": "stdout",
     "output_type": "stream",
     "text": [
      "            Zone                 Produit   Origine  Aliments pour animaux  \\\n",
      "8236  Madagascar        Abats Comestible   animale                    0.0   \n",
      "8237  Madagascar         Agrumes, Autres  vegetale                    0.0   \n",
      "8238  Madagascar  Alcool, non Comestible  vegetale                    0.0   \n",
      "8239  Madagascar   Aliments pour enfants  vegetale                    0.0   \n",
      "8240  Madagascar                  Ananas  vegetale                    0.0   \n",
      "...          ...                     ...       ...                    ...   \n",
      "8323  Madagascar        Viande de Suides   animale                    0.0   \n",
      "8324  Madagascar     Viande de Volailles   animale                    0.0   \n",
      "8325  Madagascar           Viande, Autre   animale                    0.0   \n",
      "8326  Madagascar                     Vin  vegetale                    0.0   \n",
      "8327  Madagascar          Épices, Autres  vegetale                    0.0   \n",
      "\n",
      "      Autres Utilisations  Disponibilité alimentaire (Kcal/personne/jour)  \\\n",
      "8236                  0.0                                             6.0   \n",
      "8237                  0.0                                             0.0   \n",
      "8238               8000.0                                             0.0   \n",
      "8239                  0.0                                             0.0   \n",
      "8240                  0.0                                             3.0   \n",
      "...                   ...                                             ...   \n",
      "8323                  0.0                                            22.0   \n",
      "8324                  0.0                                            16.0   \n",
      "8325                  0.0                                             1.0   \n",
      "8326                  0.0                                             1.0   \n",
      "8327               1000.0                                             0.0   \n",
      "\n",
      "      Disponibilité alimentaire en quantité (kg/personne/an)  \\\n",
      "8236                                               1.90        \n",
      "8237                                               0.01        \n",
      "8238                                               0.00        \n",
      "8239                                               0.00        \n",
      "8240                                               3.15        \n",
      "...                                                 ...        \n",
      "8323                                               2.56        \n",
      "8324                                               3.14        \n",
      "8325                                               0.35        \n",
      "8326                                               0.39        \n",
      "8327                                               0.05        \n",
      "\n",
      "      Disponibilité de matière grasse en quantité (g/personne/jour)  \\\n",
      "8236                                               0.15               \n",
      "8237                                               0.00               \n",
      "8238                                               0.00               \n",
      "8239                                               0.00               \n",
      "8240                                               0.01               \n",
      "...                                                 ...               \n",
      "8323                                               2.04               \n",
      "8324                                               1.23               \n",
      "8325                                               0.03               \n",
      "8326                                               0.00               \n",
      "8327                                               0.01               \n",
      "\n",
      "      Disponibilité de protéines en quantité (g/personne/jour)  \\\n",
      "8236                                               0.94          \n",
      "8237                                               0.00          \n",
      "8238                                               0.00          \n",
      "8239                                               0.00          \n",
      "8240                                               0.03          \n",
      "...                                                 ...          \n",
      "8323                                               0.81          \n",
      "8324                                               1.06          \n",
      "8325                                               0.17          \n",
      "8326                                               0.00          \n",
      "8327                                               0.01          \n",
      "\n",
      "      Disponibilité intérieure  Exportations - Quantité  \\\n",
      "8236                   44000.0                      0.0   \n",
      "8237                       0.0                      0.0   \n",
      "8238                    8000.0                   1000.0   \n",
      "8239                       0.0                      0.0   \n",
      "8240                   80000.0                      0.0   \n",
      "...                        ...                      ...   \n",
      "8323                   59000.0                      0.0   \n",
      "8324                   72000.0                      0.0   \n",
      "8325                    8000.0                      0.0   \n",
      "8326                    9000.0                      0.0   \n",
      "8327                    2000.0                   3000.0   \n",
      "\n",
      "      Importations - Quantité  Nourriture  Pertes  Production  Semences  \\\n",
      "8236                      0.0     44000.0     0.0     43000.0       0.0   \n",
      "8237                      0.0         0.0     0.0         0.0       0.0   \n",
      "8238                   9000.0         0.0     0.0         0.0       0.0   \n",
      "8239                      0.0         0.0     0.0         0.0       0.0   \n",
      "8240                      0.0     72000.0  8000.0     80000.0       0.0   \n",
      "...                       ...         ...     ...         ...       ...   \n",
      "8323                      0.0     59000.0     0.0     58000.0       0.0   \n",
      "8324                      0.0     72000.0     0.0     72000.0       0.0   \n",
      "8325                      0.0      8000.0     0.0      8000.0       0.0   \n",
      "8326                   1000.0      9000.0     0.0      8000.0       0.0   \n",
      "8327                      0.0      1000.0     0.0      6000.0       0.0   \n",
      "\n",
      "      Traitement  Variation de stock  \n",
      "8236         0.0                 0.0  \n",
      "8237         0.0                 0.0  \n",
      "8238         0.0                 0.0  \n",
      "8239         0.0                 0.0  \n",
      "8240         0.0                 0.0  \n",
      "...          ...                 ...  \n",
      "8323         0.0                 0.0  \n",
      "8324         0.0                 0.0  \n",
      "8325         0.0                 0.0  \n",
      "8326         0.0                 0.0  \n",
      "8327         0.0                 0.0  \n",
      "\n",
      "[92 rows x 18 columns]\n",
      "Disponibilité en protéines à Madagascar : 46.69 g/personne/jour\n",
      "Disponibilité en matières grasses à Madagascar : 24.490000000000002 g/personne/jour\n",
      "Disponibilité alimentaire à Madagascar : 2056.0 Kcal/personne/jour \n"
     ]
    }
   ],
   "source": [
    "#Analysons désormais les proportions exportées en fonction des disponibilités intérieures pour Haïti qui semble être le pays le plus en difficulté en termes de sous nutrition\n",
    "dispo_madagascar = dispo_alimentaire[dispo_alimentaire['Zone']=='Madagascar']\n",
    "print(dispo_madagascar)\n",
    "\n",
    "dispo_proteines_madagascar = dispo_madagascar['Disponibilité de protéines en quantité (g/personne/jour)'].sum()\n",
    "dispo_matieres_grasses_madagascar = dispo_madagascar['Disponibilité de matière grasse en quantité (g/personne/jour)'].sum()\n",
    "dispo_alimentaire_madagascar = dispo_madagascar['Disponibilité alimentaire (Kcal/personne/jour)'].sum()\n",
    "\n",
    "print(f\"Disponibilité en protéines à Madagascar : {dispo_proteines_madagascar} g/personne/jour\")\n",
    "print(f\"Disponibilité en matières grasses à Madagascar : {dispo_matieres_grasses_madagascar} g/personne/jour\")\n",
    "print(f\"Disponibilité alimentaire à Madagascar : {dispo_alimentaire_madagascar} Kcal/personne/jour \")\n",
    "# Madagascar présente un modèle de gestion alimentaire largement axé sur la production locale, avec une dépendance minimale aux importations. Cela confère au pays une certaine résilience, en particulier dans le domaine des produits carnés et de certains fruits comme l'ananas. Néanmoins, les faibles apports nutritionnels en calories et protéines pour certains produits montrent des limitations en matière de diversité et de densité nutritionnelle, ce qui peut affecter la sécurité alimentaire sur le plan qualitatif.\n",
    "# Pour renforcer la sécurité alimentaire et la nutrition, Madagascar pourrait envisager d’augmenter sa production de produits plus riches en calories et protéines, et de diversifier son offre alimentaire pour combler les carences nutritionnelles de la population."
   ]
  },
  {
   "cell_type": "code",
   "execution_count": null,
   "id": "24e25a37-7802-4092-9697-170eaa1f7a83",
   "metadata": {},
   "outputs": [],
   "source": []
  },
  {
   "cell_type": "code",
   "execution_count": null,
   "id": "e82e456c-379b-43e4-9e01-8a1ffb09a3d3",
   "metadata": {},
   "outputs": [],
   "source": []
  },
  {
   "cell_type": "code",
   "execution_count": null,
   "id": "ab8e5bbf-207e-4a26-acdb-f2ec1698dc3f",
   "metadata": {},
   "outputs": [],
   "source": []
  },
  {
   "cell_type": "code",
   "execution_count": null,
   "id": "b332f301-1711-4902-b5bc-0d09c4ee698e",
   "metadata": {},
   "outputs": [],
   "source": []
  },
  {
   "cell_type": "code",
   "execution_count": null,
   "id": "5569562c-42bc-4a9a-8381-25e0439ed8c6",
   "metadata": {},
   "outputs": [],
   "source": []
  },
  {
   "cell_type": "code",
   "execution_count": null,
   "id": "6bce480e-2757-406b-9e35-08f571a4ec01",
   "metadata": {},
   "outputs": [],
   "source": []
  },
  {
   "cell_type": "code",
   "execution_count": null,
   "id": "29e6b823-b8e0-4fb5-8103-db73e8575c34",
   "metadata": {},
   "outputs": [],
   "source": []
  },
  {
   "cell_type": "code",
   "execution_count": null,
   "id": "ed0a0a81-ea25-43ae-a517-d724d468f22a",
   "metadata": {},
   "outputs": [],
   "source": []
  }
 ],
 "metadata": {
  "kernelspec": {
   "display_name": "Python 3 (ipykernel)",
   "language": "python",
   "name": "python3"
  },
  "language_info": {
   "codemirror_mode": {
    "name": "ipython",
    "version": 3
   },
   "file_extension": ".py",
   "mimetype": "text/x-python",
   "name": "python",
   "nbconvert_exporter": "python",
   "pygments_lexer": "ipython3",
   "version": "3.12.4"
  }
 },
 "nbformat": 4,
 "nbformat_minor": 5
}
