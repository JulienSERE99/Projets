{
 "cells": [
  {
   "cell_type": "markdown",
   "id": "1b0bdb79-20f6-421f-88a1-eecb55e0d4cf",
   "metadata": {},
   "source": [
    "<div style=\"display: flex; background-color: RGB(245, 203, 167);\" >\n",
    "<h1 style=\"margin: auto; padding: 30px; \">P12 - Application de détection de faux billets</h1>\n",
    "    </div>"
   ]
  },
  {
   "cell_type": "markdown",
   "id": "c6330471-fa6f-499e-8569-df471d4a14b0",
   "metadata": {},
   "source": [
    "## Chargement du modèle de prédiction"
   ]
  },
  {
   "cell_type": "code",
   "execution_count": 1,
   "id": "609a641a-eabc-4dbd-a88f-e2b5fa0ebeb3",
   "metadata": {},
   "outputs": [
    {
     "name": "stdout",
     "output_type": "stream",
     "text": [
      "Modèle chargé avec succès !\n"
     ]
    }
   ],
   "source": [
    "import joblib\n",
    "\n",
    "# Charger le modèle de régression logistique\n",
    "model_log = joblib.load('log_reg.pkl')\n",
    "\n",
    "print(\"Modèle chargé avec succès !\")"
   ]
  },
  {
   "cell_type": "markdown",
   "id": "1df14c27-b7fd-465f-a0d0-8b810920264d",
   "metadata": {},
   "source": [
    "## Création de l'application par entrée manuelle"
   ]
  },
  {
   "cell_type": "code",
   "execution_count": 2,
   "id": "015f4031-4c85-407f-b03c-b198d9236f34",
   "metadata": {},
   "outputs": [
    {
     "name": "stdout",
     "output_type": "stream",
     "text": [
      "✅ Fichier 'P12-App.py' créé avec succès !\n"
     ]
    }
   ],
   "source": [
    "import streamlit as st\n",
    "import pandas as pd\n",
    "import numpy as np\n",
    "import joblib  \n",
    "\n",
    "code = \"\"\"\n",
    "import streamlit as st\n",
    "import pandas as pd\n",
    "import numpy as np\n",
    "import joblib  \n",
    "\n",
    "# Charger le modèle \n",
    "model = joblib.load(\"log_reg.pkl\")\n",
    "scaler = joblib.load(\"scaler.pkl\")\n",
    "\n",
    "# Interface utilisateur\n",
    "st.title(\"💵 Détection de Faux Billets\")\n",
    "st.write(\"Entrez les dimensions du billet pour vérifier s'il est authentique.\")\n",
    "\n",
    "# Champs d'entrée pour les dimensions du billet\n",
    "diagonal = st.number_input (\"Diagonal\", min_value=0.0, step=1.0)\n",
    "height_left = st.number_input(\"Height Left\", min_value=0.0, step=1.0)\n",
    "height_right = st.number_input(\"Height Right\", min_value=0.0, step=1.0)\n",
    "margin_low = st.number_input(\"Margin Low\", min_value=0.0, step=1.0)\n",
    "margin_up = st.number_input(\"Margin Up\", min_value=0.0, step=1.0)\n",
    "length = st.number_input(\"Length\", min_value=0.0, step=1.0)\n",
    "\n",
    "# Bouton pour faire la prédiction\n",
    "if st.button(\"🔍 Vérifier le billet\"):\n",
    "    # Préparer les données sous forme de DataFrame\n",
    "    input_data = pd.DataFrame([{\n",
    "    \"diagonal\" : diagonal,\n",
    "        \"height_left\": height_left,\n",
    "        \"height_right\": height_right,\n",
    "        \"margin_low\": margin_low,\n",
    "        \"margin_up\": margin_up,\n",
    "        \"length\": length\n",
    "    }])\n",
    "\n",
    "    # Appliquer la même normalisation que lors de l'entraînement\n",
    "    input_data_scaled = scaler.transform(input_data)\n",
    "\n",
    "    # Prédire si le billet est vrai ou faux\n",
    "    prediction = model.predict(input_data_scaled)\n",
    "\n",
    "    # Afficher le résultat\n",
    "    if prediction[0] == 1:\n",
    "        st.success(\"✅ Le billet est AUTHENTIQUE !\")\n",
    "    else:\n",
    "        st.error(\"❌ Le billet est FAUX !\")\n",
    "\"\"\"\n",
    "\n",
    "# Enregistrement dans un fichier Python\n",
    "with open(\"P12-App.py\", \"w\", encoding=\"utf-8\") as f:\n",
    "    f.write(code)\n",
    "\n",
    "print(\"✅ Fichier 'P12-App.py' créé avec succès !\")\n"
   ]
  },
  {
   "cell_type": "markdown",
   "id": "e01a2bc3-9bc3-4734-a3f1-aae95d3263b4",
   "metadata": {},
   "source": [
    "### Lancement de l'application"
   ]
  },
  {
   "cell_type": "code",
   "execution_count": null,
   "id": "d6f2bcdf-1f51-4923-9259-2066d67bc7e4",
   "metadata": {},
   "outputs": [],
   "source": [
    "!streamlit run P12-App.py\n"
   ]
  },
  {
   "cell_type": "markdown",
   "id": "07cd6d7e-d118-40e8-8cef-13b52232af4a",
   "metadata": {},
   "source": [
    "## Création de l'application par détection CSV"
   ]
  },
  {
   "cell_type": "code",
   "execution_count": null,
   "id": "ca78fded-3110-4bec-ae3a-4b5341b59d50",
   "metadata": {},
   "outputs": [],
   "source": [
    "import streamlit as st\n",
    "import pandas as pd\n",
    "import numpy as np\n",
    "import joblib  \n",
    "from sklearn.preprocessing import StandardScaler\n",
    "\n",
    "# Pour charger le modèle\n",
    "\n",
    "# Définir le code de l'application\n",
    "csv_code = \"\"\" \n",
    "import streamlit as st\n",
    "import pandas as pd\n",
    "import numpy as np\n",
    "import joblib  # Pour charger le modèle\n",
    "\n",
    "# Charger le modèle de régression logistique\n",
    "model = joblib.load(\"log_reg.pkl\")\n",
    "scaler = joblib.load(\"scaler.pkl\")\n",
    "\n",
    "# Interface utilisateur\n",
    "st.title(\"📊 Détection de Faux Billets via CSV\")\n",
    "\n",
    "st.write(\"📂 **Chargez un fichier CSV contenant les caractéristiques des billets pour analyse.**\")\n",
    "\n",
    "# Upload du fichier CSV\n",
    "uploaded_file = st.file_uploader(\"Uploader un fichier CSV\", type=[\"csv\"])\n",
    "\n",
    "if uploaded_file is not None:\n",
    "    # Lire le fichier\n",
    "    df = pd.read_csv(uploaded_file)\n",
    "\n",
    "    # Vérifier que les colonnes requises sont bien présentes\n",
    "    expected_columns = [\"diagonal\", \"height_left\", \"height_right\", \"margin_low\", \"margin_up\", \"length\"]\n",
    "    \n",
    "    if all(col in df.columns for col in expected_columns):\n",
    "        st.write(\"✅ **Fichier chargé avec succès !**\")\n",
    "        \n",
    "        df_selected = df[expected_columns]\n",
    "        df_scaled = scaler.transform(df_selected)\n",
    "\n",
    "        # Prédire avec le modèle\n",
    "        predictions = model.predict(df_scaled)\n",
    "\n",
    "        # Ajouter les prédictions au DataFrame\n",
    "        df[\"Prediction\"] = [\"✅ Authentique\" if pred == 1 else \"❌ Faux\" for pred in predictions]\n",
    "\n",
    "        # Afficher les résultats\n",
    "        st.write(\"### 🏆 Résultats des Prédictions\")\n",
    "        st.dataframe(df)\n",
    "\n",
    "        # Télécharger les résultats en CSV\n",
    "        csv = df.to_csv(index=False).encode('utf-8')\n",
    "        st.download_button(\"📥 Télécharger les résultats\", data=csv, file_name=\"predictions.csv\", mime=\"text/csv\")\n",
    "\n",
    "    else:\n",
    "        st.error(\"🚨 **Le fichier ne contient pas toutes les colonnes requises !**\")\n",
    "        st.write(f\"Colonnes attendues : {expected_columns}\")\n",
    "        st.write(f\"Colonnes fournies : {list(df.columns)}\")\n",
    "\"\"\"\n",
    "\n",
    "# Créer le fichier \"app.py\"\n",
    "file_path = \"P12-App-CSV.py\"\n",
    "with open(file_path, \"w\", encoding=\"utf-8\") as f:\n",
    "    f.write(csv_code)\n",
    "\n",
    "print(f\"✅ Fichier '{file_path}' créé avec succès.\")"
   ]
  },
  {
   "cell_type": "markdown",
   "id": "0d5d8f67-0392-46f9-a3f9-9fc69d00eb43",
   "metadata": {},
   "source": [
    "### Lancement de l'application"
   ]
  },
  {
   "cell_type": "code",
   "execution_count": null,
   "id": "d6cf38d3-7d4e-4aa7-ab86-1aa3d75bdd28",
   "metadata": {},
   "outputs": [],
   "source": [
    "!streamlit run P12-App-CSV.py"
   ]
  },
  {
   "cell_type": "code",
   "execution_count": null,
   "id": "08693a69-652f-4e5e-8d60-638e1d82b7eb",
   "metadata": {},
   "outputs": [],
   "source": []
  }
 ],
 "metadata": {
  "kernelspec": {
   "display_name": "Python 3 (ipykernel)",
   "language": "python",
   "name": "python3"
  },
  "language_info": {
   "codemirror_mode": {
    "name": "ipython",
    "version": 3
   },
   "file_extension": ".py",
   "mimetype": "text/x-python",
   "name": "python",
   "nbconvert_exporter": "python",
   "pygments_lexer": "ipython3",
   "version": "3.12.7"
  }
 },
 "nbformat": 4,
 "nbformat_minor": 5
}
